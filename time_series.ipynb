{
 "cells": [
  {
   "cell_type": "markdown",
   "metadata": {},
   "source": [
    "## Getting financial data"
   ]
  },
  {
   "cell_type": "code",
   "execution_count": 11,
   "metadata": {
    "ExecuteTime": {
     "end_time": "2020-11-30T11:22:16.463941Z",
     "start_time": "2020-11-30T11:22:16.453951Z"
    }
   },
   "outputs": [],
   "source": [
    "import pandas as pd\n",
    "\n",
    "from pandas_datareader import data\n",
    "\n",
    "import datetime as dt"
   ]
  },
  {
   "cell_type": "code",
   "execution_count": 12,
   "metadata": {
    "ExecuteTime": {
     "end_time": "2020-11-30T11:22:18.498547Z",
     "start_time": "2020-11-30T11:22:18.481560Z"
    }
   },
   "outputs": [],
   "source": [
    "#Times Seriees= \n",
    "\n",
    "import pandas_datareader.data as web"
   ]
  },
  {
   "cell_type": "markdown",
   "metadata": {
    "ExecuteTime": {
     "end_time": "2020-11-26T18:34:59.976736Z",
     "start_time": "2020-11-26T18:34:59.957756Z"
    }
   },
   "source": [
    "### Create your time range (start and end variables). The start date should be 01/01/2015 and the end should today (whatever your today is)"
   ]
  },
  {
   "cell_type": "code",
   "execution_count": 13,
   "metadata": {
    "ExecuteTime": {
     "end_time": "2020-11-30T11:22:20.858862Z",
     "start_time": "2020-11-30T11:22:20.851868Z"
    }
   },
   "outputs": [
    {
     "data": {
      "text/plain": [
       "datetime.datetime(2020, 11, 30, 13, 22, 20, 853865)"
      ]
     },
     "execution_count": 13,
     "metadata": {},
     "output_type": "execute_result"
    }
   ],
   "source": [
    "timerange= pd.date_range(start=\"01/01/2015\", end =dt.datetime.today(), freq=\"D\")\n",
    "dt.datetime.today()"
   ]
  },
  {
   "cell_type": "markdown",
   "metadata": {},
   "source": [
    "### Select the Apple, Tesla, Twitter, IBM, LinkedIn stocks symbols and assign them to a variable called stocks"
   ]
  },
  {
   "cell_type": "code",
   "execution_count": 14,
   "metadata": {
    "ExecuteTime": {
     "end_time": "2020-11-30T11:22:23.188286Z",
     "start_time": "2020-11-30T11:22:23.171301Z"
    }
   },
   "outputs": [],
   "source": [
    "#eg:apple =[\"AAPL\"]\n",
    "\n",
    "stocks=['AAPL', \"TSLA\", \"TWR\", \"IBM\"]\n"
   ]
  },
  {
   "cell_type": "markdown",
   "metadata": {},
   "source": [
    "### Read the data from yahoo, assign to df and print it"
   ]
  },
  {
   "cell_type": "code",
   "execution_count": 15,
   "metadata": {
    "ExecuteTime": {
     "end_time": "2020-11-30T11:22:27.925603Z",
     "start_time": "2020-11-30T11:22:25.350041Z"
    }
   },
   "outputs": [
    {
     "name": "stdout",
     "output_type": "stream",
     "text": [
      "Attributes   Adj Close                                     Close              \\\n",
      "Symbols           AAPL        TSLA   TWR         IBM        AAPL        TSLA   \n",
      "Date                                                                           \n",
      "2015-01-02   24.696352   43.862000  0.03  124.083694   27.332500   43.862000   \n",
      "2015-01-05   24.000614   42.018002  0.04  122.131233   26.562500   42.018002   \n",
      "2015-01-06   24.002876   42.256001  0.04  119.497353   26.565001   42.256001   \n",
      "2015-01-07   24.339447   42.189999  0.04  118.716354   26.937500   42.189999   \n",
      "2015-01-08   25.274624   42.124001  0.03  121.296631   27.972500   42.124001   \n",
      "...                ...         ...   ...         ...         ...         ...   \n",
      "2020-11-20  117.339996  489.609985   NaN  116.940002  117.339996  489.609985   \n",
      "2020-11-23  113.849998  521.849976   NaN  120.089996  113.849998  521.849976   \n",
      "2020-11-24  115.169998  555.380005   NaN  124.419998  115.169998  555.380005   \n",
      "2020-11-25  116.029999  574.000000   NaN  124.199997  116.029999  574.000000   \n",
      "2020-11-27  116.589996  585.760010   NaN  124.349998  116.589996  585.760010   \n",
      "\n",
      "Attributes                          High              ...   Low              \\\n",
      "Symbols      TWR         IBM        AAPL        TSLA  ...   TWR         IBM   \n",
      "Date                                                  ...                     \n",
      "2015-01-02  0.03  162.059998   27.860001   44.650002  ...  0.03  161.000000   \n",
      "2015-01-05  0.04  159.509995   27.162500   43.299999  ...  0.04  159.190002   \n",
      "2015-01-06  0.04  156.070007   26.857500   42.840000  ...  0.04  155.169998   \n",
      "2015-01-07  0.04  155.050003   27.049999   42.956001  ...  0.04  154.029999   \n",
      "2015-01-08  0.03  158.419998   28.037500   42.759998  ...  0.03  155.550003   \n",
      "...          ...         ...         ...         ...  ...   ...         ...   \n",
      "2020-11-20   NaN  116.940002  118.769997  502.500000  ...   NaN  116.690002   \n",
      "2020-11-23   NaN  120.089996  117.620003  526.000000  ...   NaN  117.269997   \n",
      "2020-11-24   NaN  124.419998  115.849998  559.989990  ...   NaN  120.809998   \n",
      "2020-11-25   NaN  124.199997  116.750000  574.000000  ...   NaN  122.110001   \n",
      "2020-11-27   NaN  124.349998  117.489998  598.780029  ...   NaN  123.910004   \n",
      "\n",
      "Attributes        Open                                     Volume              \\\n",
      "Symbols           AAPL        TSLA   TWR         IBM         AAPL        TSLA   \n",
      "Date                                                                            \n",
      "2015-01-02   27.847500   44.574001  0.03  161.309998  212818400.0  23822000.0   \n",
      "2015-01-05   27.072500   42.910000  0.04  161.270004  257142000.0  26842500.0   \n",
      "2015-01-06   26.635000   42.012001  0.04  159.669998  263188400.0  31309500.0   \n",
      "2015-01-07   26.799999   42.669998  0.04  157.199997  160423600.0  14842000.0   \n",
      "2015-01-08   27.307501   42.562000  0.03  156.240005  237458000.0  17212500.0   \n",
      "...                ...         ...   ...         ...          ...         ...   \n",
      "2020-11-20  118.639999  497.989990   NaN  117.599998   73391400.0  32807300.0   \n",
      "2020-11-23  117.180000  503.500000   NaN  117.430000  127959300.0  50260300.0   \n",
      "2020-11-24  113.910004  540.400024   NaN  120.860001  113874200.0  53648500.0   \n",
      "2020-11-25  115.550003  550.059998   NaN  122.930000   76499200.0  48930200.0   \n",
      "2020-11-27  116.570000  581.159973   NaN  124.199997   46691300.0  37561100.0   \n",
      "\n",
      "Attributes                      \n",
      "Symbols         TWR        IBM  \n",
      "Date                            \n",
      "2015-01-02      0.0  5525500.0  \n",
      "2015-01-05  76000.0  4880400.0  \n",
      "2015-01-06      0.0  6146700.0  \n",
      "2015-01-07      0.0  4701800.0  \n",
      "2015-01-08   2500.0  4236800.0  \n",
      "...             ...        ...  \n",
      "2020-11-20      NaN  5024300.0  \n",
      "2020-11-23      NaN  5650400.0  \n",
      "2020-11-24      NaN  7752500.0  \n",
      "2020-11-25      NaN  4135900.0  \n",
      "2020-11-27      NaN  2091200.0  \n",
      "\n",
      "[1488 rows x 24 columns]\n"
     ]
    }
   ],
   "source": [
    "df = data.get_data_yahoo(stocks, start = timerange[0])\n",
    "print(df)"
   ]
  },
  {
   "cell_type": "markdown",
   "metadata": {},
   "source": [
    "### What is the type of structure of df ?"
   ]
  },
  {
   "cell_type": "code",
   "execution_count": 16,
   "metadata": {
    "ExecuteTime": {
     "end_time": "2020-11-30T11:22:33.074223Z",
     "start_time": "2020-11-30T11:22:33.045251Z"
    }
   },
   "outputs": [
    {
     "name": "stdout",
     "output_type": "stream",
     "text": [
      "<class 'pandas.core.frame.DataFrame'>\n",
      "DatetimeIndex: 1488 entries, 2015-01-02 to 2020-11-27\n",
      "Data columns (total 24 columns):\n",
      " #   Column             Non-Null Count  Dtype  \n",
      "---  ------             --------------  -----  \n",
      " 0   (Adj Close, AAPL)  1488 non-null   float64\n",
      " 1   (Adj Close, TSLA)  1488 non-null   float64\n",
      " 2   (Adj Close, TWR)   776 non-null    float64\n",
      " 3   (Adj Close, IBM)   1488 non-null   float64\n",
      " 4   (Close, AAPL)      1488 non-null   float64\n",
      " 5   (Close, TSLA)      1488 non-null   float64\n",
      " 6   (Close, TWR)       776 non-null    float64\n",
      " 7   (Close, IBM)       1488 non-null   float64\n",
      " 8   (High, AAPL)       1488 non-null   float64\n",
      " 9   (High, TSLA)       1488 non-null   float64\n",
      " 10  (High, TWR)        776 non-null    float64\n",
      " 11  (High, IBM)        1488 non-null   float64\n",
      " 12  (Low, AAPL)        1488 non-null   float64\n",
      " 13  (Low, TSLA)        1488 non-null   float64\n",
      " 14  (Low, TWR)         776 non-null    float64\n",
      " 15  (Low, IBM)         1488 non-null   float64\n",
      " 16  (Open, AAPL)       1488 non-null   float64\n",
      " 17  (Open, TSLA)       1488 non-null   float64\n",
      " 18  (Open, TWR)        776 non-null    float64\n",
      " 19  (Open, IBM)        1488 non-null   float64\n",
      " 20  (Volume, AAPL)     1488 non-null   float64\n",
      " 21  (Volume, TSLA)     1488 non-null   float64\n",
      " 22  (Volume, TWR)      776 non-null    float64\n",
      " 23  (Volume, IBM)      1488 non-null   float64\n",
      "dtypes: float64(24)\n",
      "memory usage: 290.6 KB\n"
     ]
    }
   ],
   "source": [
    "df.info()"
   ]
  },
  {
   "cell_type": "markdown",
   "metadata": {},
   "source": [
    "### Create a dataFrame called vol, with the Volume values."
   ]
  },
  {
   "cell_type": "code",
   "execution_count": 17,
   "metadata": {
    "ExecuteTime": {
     "end_time": "2020-11-30T11:22:36.155870Z",
     "start_time": "2020-11-30T11:22:36.135888Z"
    }
   },
   "outputs": [
    {
     "data": {
      "text/html": [
       "<div>\n",
       "<style scoped>\n",
       "    .dataframe tbody tr th:only-of-type {\n",
       "        vertical-align: middle;\n",
       "    }\n",
       "\n",
       "    .dataframe tbody tr th {\n",
       "        vertical-align: top;\n",
       "    }\n",
       "\n",
       "    .dataframe thead th {\n",
       "        text-align: right;\n",
       "    }\n",
       "</style>\n",
       "<table border=\"1\" class=\"dataframe\">\n",
       "  <thead>\n",
       "    <tr style=\"text-align: right;\">\n",
       "      <th>Symbols</th>\n",
       "      <th>AAPL</th>\n",
       "      <th>TSLA</th>\n",
       "      <th>TWR</th>\n",
       "      <th>IBM</th>\n",
       "    </tr>\n",
       "    <tr>\n",
       "      <th>Date</th>\n",
       "      <th></th>\n",
       "      <th></th>\n",
       "      <th></th>\n",
       "      <th></th>\n",
       "    </tr>\n",
       "  </thead>\n",
       "  <tbody>\n",
       "    <tr>\n",
       "      <th>2015-01-02</th>\n",
       "      <td>212818400.0</td>\n",
       "      <td>23822000.0</td>\n",
       "      <td>0.0</td>\n",
       "      <td>5525500.0</td>\n",
       "    </tr>\n",
       "    <tr>\n",
       "      <th>2015-01-05</th>\n",
       "      <td>257142000.0</td>\n",
       "      <td>26842500.0</td>\n",
       "      <td>76000.0</td>\n",
       "      <td>4880400.0</td>\n",
       "    </tr>\n",
       "    <tr>\n",
       "      <th>2015-01-06</th>\n",
       "      <td>263188400.0</td>\n",
       "      <td>31309500.0</td>\n",
       "      <td>0.0</td>\n",
       "      <td>6146700.0</td>\n",
       "    </tr>\n",
       "    <tr>\n",
       "      <th>2015-01-07</th>\n",
       "      <td>160423600.0</td>\n",
       "      <td>14842000.0</td>\n",
       "      <td>0.0</td>\n",
       "      <td>4701800.0</td>\n",
       "    </tr>\n",
       "    <tr>\n",
       "      <th>2015-01-08</th>\n",
       "      <td>237458000.0</td>\n",
       "      <td>17212500.0</td>\n",
       "      <td>2500.0</td>\n",
       "      <td>4236800.0</td>\n",
       "    </tr>\n",
       "    <tr>\n",
       "      <th>...</th>\n",
       "      <td>...</td>\n",
       "      <td>...</td>\n",
       "      <td>...</td>\n",
       "      <td>...</td>\n",
       "    </tr>\n",
       "    <tr>\n",
       "      <th>2020-11-20</th>\n",
       "      <td>73391400.0</td>\n",
       "      <td>32807300.0</td>\n",
       "      <td>NaN</td>\n",
       "      <td>5024300.0</td>\n",
       "    </tr>\n",
       "    <tr>\n",
       "      <th>2020-11-23</th>\n",
       "      <td>127959300.0</td>\n",
       "      <td>50260300.0</td>\n",
       "      <td>NaN</td>\n",
       "      <td>5650400.0</td>\n",
       "    </tr>\n",
       "    <tr>\n",
       "      <th>2020-11-24</th>\n",
       "      <td>113874200.0</td>\n",
       "      <td>53648500.0</td>\n",
       "      <td>NaN</td>\n",
       "      <td>7752500.0</td>\n",
       "    </tr>\n",
       "    <tr>\n",
       "      <th>2020-11-25</th>\n",
       "      <td>76499200.0</td>\n",
       "      <td>48930200.0</td>\n",
       "      <td>NaN</td>\n",
       "      <td>4135900.0</td>\n",
       "    </tr>\n",
       "    <tr>\n",
       "      <th>2020-11-27</th>\n",
       "      <td>46691300.0</td>\n",
       "      <td>37561100.0</td>\n",
       "      <td>NaN</td>\n",
       "      <td>2091200.0</td>\n",
       "    </tr>\n",
       "  </tbody>\n",
       "</table>\n",
       "<p>1488 rows × 4 columns</p>\n",
       "</div>"
      ],
      "text/plain": [
       "Symbols            AAPL        TSLA      TWR        IBM\n",
       "Date                                                   \n",
       "2015-01-02  212818400.0  23822000.0      0.0  5525500.0\n",
       "2015-01-05  257142000.0  26842500.0  76000.0  4880400.0\n",
       "2015-01-06  263188400.0  31309500.0      0.0  6146700.0\n",
       "2015-01-07  160423600.0  14842000.0      0.0  4701800.0\n",
       "2015-01-08  237458000.0  17212500.0   2500.0  4236800.0\n",
       "...                 ...         ...      ...        ...\n",
       "2020-11-20   73391400.0  32807300.0      NaN  5024300.0\n",
       "2020-11-23  127959300.0  50260300.0      NaN  5650400.0\n",
       "2020-11-24  113874200.0  53648500.0      NaN  7752500.0\n",
       "2020-11-25   76499200.0  48930200.0      NaN  4135900.0\n",
       "2020-11-27   46691300.0  37561100.0      NaN  2091200.0\n",
       "\n",
       "[1488 rows x 4 columns]"
      ]
     },
     "execution_count": 17,
     "metadata": {},
     "output_type": "execute_result"
    }
   ],
   "source": [
    "Vol=df[\"Volume\"]\n",
    "Vol"
   ]
  },
  {
   "cell_type": "code",
   "execution_count": 19,
   "metadata": {
    "ExecuteTime": {
     "end_time": "2020-11-30T11:22:47.499391Z",
     "start_time": "2020-11-30T11:22:47.470418Z"
    }
   },
   "outputs": [
    {
     "ename": "NameError",
     "evalue": "name 'a' is not defined",
     "output_type": "error",
     "traceback": [
      "\u001b[1;31m---------------------------------------------------------------------------\u001b[0m",
      "\u001b[1;31mNameError\u001b[0m                                 Traceback (most recent call last)",
      "\u001b[1;32m<ipython-input-19-261fd1344f9e>\u001b[0m in \u001b[0;36m<module>\u001b[1;34m\u001b[0m\n\u001b[1;32m----> 1\u001b[1;33m \u001b[0ma\u001b[0m \u001b[1;33m=\u001b[0m \u001b[0mVol\u001b[0m\u001b[1;33m.\u001b[0m\u001b[0mmelt\u001b[0m\u001b[1;33m(\u001b[0m\u001b[0ma\u001b[0m\u001b[1;33m)\u001b[0m \u001b[1;31m#melt-Pandas melt() function is used to change the DataFrame format from wide to long\u001b[0m\u001b[1;33m\u001b[0m\u001b[1;33m\u001b[0m\u001b[0m\n\u001b[0m\u001b[0;32m      2\u001b[0m \u001b[0ma\u001b[0m\u001b[1;33m.\u001b[0m\u001b[0mhead\u001b[0m\u001b[1;33m(\u001b[0m\u001b[1;33m)\u001b[0m\u001b[1;33m\u001b[0m\u001b[1;33m\u001b[0m\u001b[0m\n",
      "\u001b[1;31mNameError\u001b[0m: name 'a' is not defined"
     ]
    }
   ],
   "source": [
    "a = Vol.melt(a) #melt-Pandas melt() function is used to change the DataFrame format from wide to long\n",
    "a.head()"
   ]
  },
  {
   "cell_type": "markdown",
   "metadata": {},
   "source": [
    "### Aggregate the data of Volume to weekly"
   ]
  },
  {
   "cell_type": "code",
   "execution_count": 20,
   "metadata": {
    "ExecuteTime": {
     "end_time": "2020-11-30T11:22:57.242133Z",
     "start_time": "2020-11-30T11:22:57.177189Z"
    }
   },
   "outputs": [
    {
     "data": {
      "text/html": [
       "<div>\n",
       "<style scoped>\n",
       "    .dataframe tbody tr th:only-of-type {\n",
       "        vertical-align: middle;\n",
       "    }\n",
       "\n",
       "    .dataframe tbody tr th {\n",
       "        vertical-align: top;\n",
       "    }\n",
       "\n",
       "    .dataframe thead th {\n",
       "        text-align: right;\n",
       "    }\n",
       "</style>\n",
       "<table border=\"1\" class=\"dataframe\">\n",
       "  <thead>\n",
       "    <tr style=\"text-align: right;\">\n",
       "      <th>Symbols</th>\n",
       "      <th>AAPL</th>\n",
       "      <th>TSLA</th>\n",
       "      <th>TWR</th>\n",
       "      <th>IBM</th>\n",
       "    </tr>\n",
       "    <tr>\n",
       "      <th>Date</th>\n",
       "      <th></th>\n",
       "      <th></th>\n",
       "      <th></th>\n",
       "      <th></th>\n",
       "    </tr>\n",
       "  </thead>\n",
       "  <tbody>\n",
       "    <tr>\n",
       "      <th>2015-01-04</th>\n",
       "      <td>212818400.0</td>\n",
       "      <td>23822000.0</td>\n",
       "      <td>0.0</td>\n",
       "      <td>5525500.0</td>\n",
       "    </tr>\n",
       "    <tr>\n",
       "      <th>2015-01-11</th>\n",
       "      <td>226602000.0</td>\n",
       "      <td>22709600.0</td>\n",
       "      <td>15700.0</td>\n",
       "      <td>4890800.0</td>\n",
       "    </tr>\n",
       "    <tr>\n",
       "      <th>2015-01-18</th>\n",
       "      <td>243381280.0</td>\n",
       "      <td>30799200.0</td>\n",
       "      <td>15600.0</td>\n",
       "      <td>4651960.0</td>\n",
       "    </tr>\n",
       "    <tr>\n",
       "      <th>2015-01-25</th>\n",
       "      <td>198737000.0</td>\n",
       "      <td>20264625.0</td>\n",
       "      <td>19000.0</td>\n",
       "      <td>7811200.0</td>\n",
       "    </tr>\n",
       "    <tr>\n",
       "      <th>2015-02-01</th>\n",
       "      <td>372674160.0</td>\n",
       "      <td>15720200.0</td>\n",
       "      <td>9550.0</td>\n",
       "      <td>6585600.0</td>\n",
       "    </tr>\n",
       "    <tr>\n",
       "      <th>...</th>\n",
       "      <td>...</td>\n",
       "      <td>...</td>\n",
       "      <td>...</td>\n",
       "      <td>...</td>\n",
       "    </tr>\n",
       "    <tr>\n",
       "      <th>2020-11-01</th>\n",
       "      <td>136893420.0</td>\n",
       "      <td>28308740.0</td>\n",
       "      <td>NaN</td>\n",
       "      <td>7449700.0</td>\n",
       "    </tr>\n",
       "    <tr>\n",
       "      <th>2020-11-08</th>\n",
       "      <td>121914360.0</td>\n",
       "      <td>29127280.0</td>\n",
       "      <td>NaN</td>\n",
       "      <td>5093460.0</td>\n",
       "    </tr>\n",
       "    <tr>\n",
       "      <th>2020-11-15</th>\n",
       "      <td>117915580.0</td>\n",
       "      <td>24420220.0</td>\n",
       "      <td>NaN</td>\n",
       "      <td>6017080.0</td>\n",
       "    </tr>\n",
       "    <tr>\n",
       "      <th>2020-11-22</th>\n",
       "      <td>77856100.0</td>\n",
       "      <td>52270700.0</td>\n",
       "      <td>NaN</td>\n",
       "      <td>4499720.0</td>\n",
       "    </tr>\n",
       "    <tr>\n",
       "      <th>2020-11-29</th>\n",
       "      <td>91256000.0</td>\n",
       "      <td>47600025.0</td>\n",
       "      <td>NaN</td>\n",
       "      <td>4907500.0</td>\n",
       "    </tr>\n",
       "  </tbody>\n",
       "</table>\n",
       "<p>309 rows × 4 columns</p>\n",
       "</div>"
      ],
      "text/plain": [
       "Symbols            AAPL        TSLA      TWR        IBM\n",
       "Date                                                   \n",
       "2015-01-04  212818400.0  23822000.0      0.0  5525500.0\n",
       "2015-01-11  226602000.0  22709600.0  15700.0  4890800.0\n",
       "2015-01-18  243381280.0  30799200.0  15600.0  4651960.0\n",
       "2015-01-25  198737000.0  20264625.0  19000.0  7811200.0\n",
       "2015-02-01  372674160.0  15720200.0   9550.0  6585600.0\n",
       "...                 ...         ...      ...        ...\n",
       "2020-11-01  136893420.0  28308740.0      NaN  7449700.0\n",
       "2020-11-08  121914360.0  29127280.0      NaN  5093460.0\n",
       "2020-11-15  117915580.0  24420220.0      NaN  6017080.0\n",
       "2020-11-22   77856100.0  52270700.0      NaN  4499720.0\n",
       "2020-11-29   91256000.0  47600025.0      NaN  4907500.0\n",
       "\n",
       "[309 rows x 4 columns]"
      ]
     },
     "execution_count": 20,
     "metadata": {},
     "output_type": "execute_result"
    }
   ],
   "source": [
    "Vol.groupby(pd.Grouper(freq=\"w\")).mean()"
   ]
  },
  {
   "cell_type": "markdown",
   "metadata": {},
   "source": [
    "### Find all the volume traded in the year"
   ]
  },
  {
   "cell_type": "code",
   "execution_count": 21,
   "metadata": {
    "ExecuteTime": {
     "end_time": "2020-11-30T11:23:00.990109Z",
     "start_time": "2020-11-30T11:23:00.958139Z"
    }
   },
   "outputs": [
    {
     "data": {
      "text/html": [
       "<div>\n",
       "<style scoped>\n",
       "    .dataframe tbody tr th:only-of-type {\n",
       "        vertical-align: middle;\n",
       "    }\n",
       "\n",
       "    .dataframe tbody tr th {\n",
       "        vertical-align: top;\n",
       "    }\n",
       "\n",
       "    .dataframe thead th {\n",
       "        text-align: right;\n",
       "    }\n",
       "</style>\n",
       "<table border=\"1\" class=\"dataframe\">\n",
       "  <thead>\n",
       "    <tr style=\"text-align: right;\">\n",
       "      <th>Symbols</th>\n",
       "      <th>AAPL</th>\n",
       "      <th>TSLA</th>\n",
       "      <th>TWR</th>\n",
       "      <th>IBM</th>\n",
       "    </tr>\n",
       "    <tr>\n",
       "      <th>Date</th>\n",
       "      <th></th>\n",
       "      <th></th>\n",
       "      <th></th>\n",
       "      <th></th>\n",
       "    </tr>\n",
       "  </thead>\n",
       "  <tbody>\n",
       "    <tr>\n",
       "      <th>2015</th>\n",
       "      <td>5.226420e+10</td>\n",
       "      <td>5.441089e+09</td>\n",
       "      <td>9070040.0</td>\n",
       "      <td>1.105583e+09</td>\n",
       "    </tr>\n",
       "    <tr>\n",
       "      <th>2016</th>\n",
       "      <td>3.872991e+10</td>\n",
       "      <td>5.811808e+09</td>\n",
       "      <td>26808860.0</td>\n",
       "      <td>1.018606e+09</td>\n",
       "    </tr>\n",
       "    <tr>\n",
       "      <th>2017</th>\n",
       "      <td>2.724311e+10</td>\n",
       "      <td>7.950157e+09</td>\n",
       "      <td>30417000.0</td>\n",
       "      <td>1.071166e+09</td>\n",
       "    </tr>\n",
       "    <tr>\n",
       "      <th>2018</th>\n",
       "      <td>3.415614e+10</td>\n",
       "      <td>1.080819e+10</td>\n",
       "      <td>758998.0</td>\n",
       "      <td>1.368561e+09</td>\n",
       "    </tr>\n",
       "    <tr>\n",
       "      <th>2019</th>\n",
       "      <td>2.825494e+10</td>\n",
       "      <td>1.154024e+10</td>\n",
       "      <td>0.0</td>\n",
       "      <td>9.466952e+08</td>\n",
       "    </tr>\n",
       "    <tr>\n",
       "      <th>2020</th>\n",
       "      <td>3.527073e+10</td>\n",
       "      <td>1.531368e+10</td>\n",
       "      <td>0.0</td>\n",
       "      <td>1.295619e+09</td>\n",
       "    </tr>\n",
       "  </tbody>\n",
       "</table>\n",
       "</div>"
      ],
      "text/plain": [
       "Symbols          AAPL          TSLA         TWR           IBM\n",
       "Date                                                         \n",
       "2015     5.226420e+10  5.441089e+09   9070040.0  1.105583e+09\n",
       "2016     3.872991e+10  5.811808e+09  26808860.0  1.018606e+09\n",
       "2017     2.724311e+10  7.950157e+09  30417000.0  1.071166e+09\n",
       "2018     3.415614e+10  1.080819e+10    758998.0  1.368561e+09\n",
       "2019     2.825494e+10  1.154024e+10         0.0  9.466952e+08\n",
       "2020     3.527073e+10  1.531368e+10         0.0  1.295619e+09"
      ]
     },
     "execution_count": 21,
     "metadata": {},
     "output_type": "execute_result"
    }
   ],
   "source": [
    "year=Vol.groupby(Vol.index.year).sum()\n",
    "year"
   ]
  },
  {
   "cell_type": "markdown",
   "metadata": {},
   "source": [
    "### Find all the volume traded in the year 2019"
   ]
  },
  {
   "cell_type": "code",
   "execution_count": 22,
   "metadata": {
    "ExecuteTime": {
     "end_time": "2020-11-30T11:23:03.826598Z",
     "start_time": "2020-11-30T11:23:03.806618Z"
    }
   },
   "outputs": [
    {
     "data": {
      "text/plain": [
       "Symbols\n",
       "AAPL    2.825494e+10\n",
       "TSLA    1.154024e+10\n",
       "TWR     0.000000e+00\n",
       "IBM     9.466952e+08\n",
       "Name: 2019, dtype: float64"
      ]
     },
     "execution_count": 22,
     "metadata": {},
     "output_type": "execute_result"
    }
   ],
   "source": [
    "year.loc[2019]"
   ]
  },
  {
   "cell_type": "code",
   "execution_count": null,
   "metadata": {
    "ExecuteTime": {
     "end_time": "2020-11-30T11:04:00.869822Z",
     "start_time": "2020-11-30T11:03:57.033Z"
    }
   },
   "outputs": [],
   "source": [
    "### import the apple stock only"
   ]
  },
  {
   "cell_type": "code",
   "execution_count": 23,
   "metadata": {
    "ExecuteTime": {
     "end_time": "2020-11-30T11:23:07.268121Z",
     "start_time": "2020-11-30T11:23:06.616134Z"
    }
   },
   "outputs": [
    {
     "data": {
      "text/html": [
       "<div>\n",
       "<style scoped>\n",
       "    .dataframe tbody tr th:only-of-type {\n",
       "        vertical-align: middle;\n",
       "    }\n",
       "\n",
       "    .dataframe tbody tr th {\n",
       "        vertical-align: top;\n",
       "    }\n",
       "\n",
       "    .dataframe thead tr th {\n",
       "        text-align: left;\n",
       "    }\n",
       "\n",
       "    .dataframe thead tr:last-of-type th {\n",
       "        text-align: right;\n",
       "    }\n",
       "</style>\n",
       "<table border=\"1\" class=\"dataframe\">\n",
       "  <thead>\n",
       "    <tr>\n",
       "      <th>Attributes</th>\n",
       "      <th>Adj Close</th>\n",
       "      <th>Close</th>\n",
       "      <th>High</th>\n",
       "      <th>Low</th>\n",
       "      <th>Open</th>\n",
       "      <th>Volume</th>\n",
       "    </tr>\n",
       "    <tr>\n",
       "      <th>Symbols</th>\n",
       "      <th>AAPL</th>\n",
       "      <th>AAPL</th>\n",
       "      <th>AAPL</th>\n",
       "      <th>AAPL</th>\n",
       "      <th>AAPL</th>\n",
       "      <th>AAPL</th>\n",
       "    </tr>\n",
       "    <tr>\n",
       "      <th>Date</th>\n",
       "      <th></th>\n",
       "      <th></th>\n",
       "      <th></th>\n",
       "      <th></th>\n",
       "      <th></th>\n",
       "      <th></th>\n",
       "    </tr>\n",
       "  </thead>\n",
       "  <tbody>\n",
       "    <tr>\n",
       "      <th>2015-01-02</th>\n",
       "      <td>24.696352</td>\n",
       "      <td>27.332500</td>\n",
       "      <td>27.860001</td>\n",
       "      <td>26.837500</td>\n",
       "      <td>27.847500</td>\n",
       "      <td>212818400.0</td>\n",
       "    </tr>\n",
       "    <tr>\n",
       "      <th>2015-01-05</th>\n",
       "      <td>24.000614</td>\n",
       "      <td>26.562500</td>\n",
       "      <td>27.162500</td>\n",
       "      <td>26.352501</td>\n",
       "      <td>27.072500</td>\n",
       "      <td>257142000.0</td>\n",
       "    </tr>\n",
       "    <tr>\n",
       "      <th>2015-01-06</th>\n",
       "      <td>24.002876</td>\n",
       "      <td>26.565001</td>\n",
       "      <td>26.857500</td>\n",
       "      <td>26.157499</td>\n",
       "      <td>26.635000</td>\n",
       "      <td>263188400.0</td>\n",
       "    </tr>\n",
       "    <tr>\n",
       "      <th>2015-01-07</th>\n",
       "      <td>24.339447</td>\n",
       "      <td>26.937500</td>\n",
       "      <td>27.049999</td>\n",
       "      <td>26.674999</td>\n",
       "      <td>26.799999</td>\n",
       "      <td>160423600.0</td>\n",
       "    </tr>\n",
       "    <tr>\n",
       "      <th>2015-01-08</th>\n",
       "      <td>25.274624</td>\n",
       "      <td>27.972500</td>\n",
       "      <td>28.037500</td>\n",
       "      <td>27.174999</td>\n",
       "      <td>27.307501</td>\n",
       "      <td>237458000.0</td>\n",
       "    </tr>\n",
       "    <tr>\n",
       "      <th>...</th>\n",
       "      <td>...</td>\n",
       "      <td>...</td>\n",
       "      <td>...</td>\n",
       "      <td>...</td>\n",
       "      <td>...</td>\n",
       "      <td>...</td>\n",
       "    </tr>\n",
       "    <tr>\n",
       "      <th>2020-11-20</th>\n",
       "      <td>117.339996</td>\n",
       "      <td>117.339996</td>\n",
       "      <td>118.769997</td>\n",
       "      <td>117.290001</td>\n",
       "      <td>118.639999</td>\n",
       "      <td>73391400.0</td>\n",
       "    </tr>\n",
       "    <tr>\n",
       "      <th>2020-11-23</th>\n",
       "      <td>113.849998</td>\n",
       "      <td>113.849998</td>\n",
       "      <td>117.620003</td>\n",
       "      <td>113.750000</td>\n",
       "      <td>117.180000</td>\n",
       "      <td>127959300.0</td>\n",
       "    </tr>\n",
       "    <tr>\n",
       "      <th>2020-11-24</th>\n",
       "      <td>115.169998</td>\n",
       "      <td>115.169998</td>\n",
       "      <td>115.849998</td>\n",
       "      <td>112.589996</td>\n",
       "      <td>113.910004</td>\n",
       "      <td>113874200.0</td>\n",
       "    </tr>\n",
       "    <tr>\n",
       "      <th>2020-11-25</th>\n",
       "      <td>116.029999</td>\n",
       "      <td>116.029999</td>\n",
       "      <td>116.750000</td>\n",
       "      <td>115.169998</td>\n",
       "      <td>115.550003</td>\n",
       "      <td>76499200.0</td>\n",
       "    </tr>\n",
       "    <tr>\n",
       "      <th>2020-11-27</th>\n",
       "      <td>116.589996</td>\n",
       "      <td>116.589996</td>\n",
       "      <td>117.489998</td>\n",
       "      <td>116.220001</td>\n",
       "      <td>116.570000</td>\n",
       "      <td>46691300.0</td>\n",
       "    </tr>\n",
       "  </tbody>\n",
       "</table>\n",
       "<p>1488 rows × 6 columns</p>\n",
       "</div>"
      ],
      "text/plain": [
       "Attributes   Adj Close       Close        High         Low        Open  \\\n",
       "Symbols           AAPL        AAPL        AAPL        AAPL        AAPL   \n",
       "Date                                                                     \n",
       "2015-01-02   24.696352   27.332500   27.860001   26.837500   27.847500   \n",
       "2015-01-05   24.000614   26.562500   27.162500   26.352501   27.072500   \n",
       "2015-01-06   24.002876   26.565001   26.857500   26.157499   26.635000   \n",
       "2015-01-07   24.339447   26.937500   27.049999   26.674999   26.799999   \n",
       "2015-01-08   25.274624   27.972500   28.037500   27.174999   27.307501   \n",
       "...                ...         ...         ...         ...         ...   \n",
       "2020-11-20  117.339996  117.339996  118.769997  117.290001  118.639999   \n",
       "2020-11-23  113.849998  113.849998  117.620003  113.750000  117.180000   \n",
       "2020-11-24  115.169998  115.169998  115.849998  112.589996  113.910004   \n",
       "2020-11-25  116.029999  116.029999  116.750000  115.169998  115.550003   \n",
       "2020-11-27  116.589996  116.589996  117.489998  116.220001  116.570000   \n",
       "\n",
       "Attributes       Volume  \n",
       "Symbols            AAPL  \n",
       "Date                     \n",
       "2015-01-02  212818400.0  \n",
       "2015-01-05  257142000.0  \n",
       "2015-01-06  263188400.0  \n",
       "2015-01-07  160423600.0  \n",
       "2015-01-08  237458000.0  \n",
       "...                 ...  \n",
       "2020-11-20   73391400.0  \n",
       "2020-11-23  127959300.0  \n",
       "2020-11-24  113874200.0  \n",
       "2020-11-25   76499200.0  \n",
       "2020-11-27   46691300.0  \n",
       "\n",
       "[1488 rows x 6 columns]"
      ]
     },
     "execution_count": 23,
     "metadata": {},
     "output_type": "execute_result"
    }
   ],
   "source": [
    "apple_stock= data.get_data_yahoo([\"AAPL\"], start= timerange[0])\n",
    "apple_stock"
   ]
  },
  {
   "cell_type": "markdown",
   "metadata": {},
   "source": [
    "### Check out the type of the columns"
   ]
  },
  {
   "cell_type": "code",
   "execution_count": 24,
   "metadata": {
    "ExecuteTime": {
     "end_time": "2020-11-30T11:23:17.457218Z",
     "start_time": "2020-11-30T11:23:17.434239Z"
    }
   },
   "outputs": [
    {
     "data": {
      "text/plain": [
       "Attributes  Symbols\n",
       "Adj Close   AAPL       float64\n",
       "Close       AAPL       float64\n",
       "High        AAPL       float64\n",
       "Low         AAPL       float64\n",
       "Open        AAPL       float64\n",
       "Volume      AAPL       float64\n",
       "dtype: object"
      ]
     },
     "execution_count": 24,
     "metadata": {},
     "output_type": "execute_result"
    }
   ],
   "source": [
    "apple_stock.dtypes"
   ]
  },
  {
   "cell_type": "markdown",
   "metadata": {},
   "source": [
    "### set Date as columns"
   ]
  },
  {
   "cell_type": "code",
   "execution_count": 27,
   "metadata": {
    "ExecuteTime": {
     "end_time": "2020-11-30T11:24:46.702173Z",
     "start_time": "2020-11-30T11:24:46.664210Z"
    }
   },
   "outputs": [
    {
     "data": {
      "text/html": [
       "<div>\n",
       "<style scoped>\n",
       "    .dataframe tbody tr th:only-of-type {\n",
       "        vertical-align: middle;\n",
       "    }\n",
       "\n",
       "    .dataframe tbody tr th {\n",
       "        vertical-align: top;\n",
       "    }\n",
       "\n",
       "    .dataframe thead tr th {\n",
       "        text-align: left;\n",
       "    }\n",
       "</style>\n",
       "<table border=\"1\" class=\"dataframe\">\n",
       "  <thead>\n",
       "    <tr>\n",
       "      <th>Attributes</th>\n",
       "      <th>level_0</th>\n",
       "      <th>index</th>\n",
       "      <th>Date</th>\n",
       "      <th>Adj Close</th>\n",
       "      <th>Close</th>\n",
       "      <th>High</th>\n",
       "      <th>Low</th>\n",
       "      <th>Open</th>\n",
       "      <th>Volume</th>\n",
       "    </tr>\n",
       "    <tr>\n",
       "      <th>Symbols</th>\n",
       "      <th></th>\n",
       "      <th></th>\n",
       "      <th></th>\n",
       "      <th>AAPL</th>\n",
       "      <th>AAPL</th>\n",
       "      <th>AAPL</th>\n",
       "      <th>AAPL</th>\n",
       "      <th>AAPL</th>\n",
       "      <th>AAPL</th>\n",
       "    </tr>\n",
       "  </thead>\n",
       "  <tbody>\n",
       "    <tr>\n",
       "      <th>0</th>\n",
       "      <td>0</td>\n",
       "      <td>0</td>\n",
       "      <td>2015-01-02</td>\n",
       "      <td>24.696352</td>\n",
       "      <td>27.332500</td>\n",
       "      <td>27.860001</td>\n",
       "      <td>26.837500</td>\n",
       "      <td>27.847500</td>\n",
       "      <td>212818400.0</td>\n",
       "    </tr>\n",
       "    <tr>\n",
       "      <th>1</th>\n",
       "      <td>1</td>\n",
       "      <td>1</td>\n",
       "      <td>2015-01-05</td>\n",
       "      <td>24.000614</td>\n",
       "      <td>26.562500</td>\n",
       "      <td>27.162500</td>\n",
       "      <td>26.352501</td>\n",
       "      <td>27.072500</td>\n",
       "      <td>257142000.0</td>\n",
       "    </tr>\n",
       "    <tr>\n",
       "      <th>2</th>\n",
       "      <td>2</td>\n",
       "      <td>2</td>\n",
       "      <td>2015-01-06</td>\n",
       "      <td>24.002876</td>\n",
       "      <td>26.565001</td>\n",
       "      <td>26.857500</td>\n",
       "      <td>26.157499</td>\n",
       "      <td>26.635000</td>\n",
       "      <td>263188400.0</td>\n",
       "    </tr>\n",
       "    <tr>\n",
       "      <th>3</th>\n",
       "      <td>3</td>\n",
       "      <td>3</td>\n",
       "      <td>2015-01-07</td>\n",
       "      <td>24.339447</td>\n",
       "      <td>26.937500</td>\n",
       "      <td>27.049999</td>\n",
       "      <td>26.674999</td>\n",
       "      <td>26.799999</td>\n",
       "      <td>160423600.0</td>\n",
       "    </tr>\n",
       "    <tr>\n",
       "      <th>4</th>\n",
       "      <td>4</td>\n",
       "      <td>4</td>\n",
       "      <td>2015-01-08</td>\n",
       "      <td>25.274624</td>\n",
       "      <td>27.972500</td>\n",
       "      <td>28.037500</td>\n",
       "      <td>27.174999</td>\n",
       "      <td>27.307501</td>\n",
       "      <td>237458000.0</td>\n",
       "    </tr>\n",
       "  </tbody>\n",
       "</table>\n",
       "</div>"
      ],
      "text/plain": [
       "Attributes level_0 index       Date  Adj Close      Close       High  \\\n",
       "Symbols                                   AAPL       AAPL       AAPL   \n",
       "0                0     0 2015-01-02  24.696352  27.332500  27.860001   \n",
       "1                1     1 2015-01-05  24.000614  26.562500  27.162500   \n",
       "2                2     2 2015-01-06  24.002876  26.565001  26.857500   \n",
       "3                3     3 2015-01-07  24.339447  26.937500  27.049999   \n",
       "4                4     4 2015-01-08  25.274624  27.972500  28.037500   \n",
       "\n",
       "Attributes        Low       Open       Volume  \n",
       "Symbols          AAPL       AAPL         AAPL  \n",
       "0           26.837500  27.847500  212818400.0  \n",
       "1           26.352501  27.072500  257142000.0  \n",
       "2           26.157499  26.635000  263188400.0  \n",
       "3           26.674999  26.799999  160423600.0  \n",
       "4           27.174999  27.307501  237458000.0  "
      ]
     },
     "execution_count": 27,
     "metadata": {},
     "output_type": "execute_result"
    }
   ],
   "source": [
    "apple_stock.reset_index(level=0, inplace=True)\n",
    "apple_stock.head()"
   ]
  },
  {
   "cell_type": "markdown",
   "metadata": {},
   "source": [
    "### Transform the Date column as a datetime type"
   ]
  },
  {
   "cell_type": "code",
   "execution_count": 29,
   "metadata": {
    "ExecuteTime": {
     "end_time": "2020-11-30T11:26:25.010898Z",
     "start_time": "2020-11-30T11:26:24.988673Z"
    }
   },
   "outputs": [
    {
     "data": {
      "text/plain": [
       "0      2015-01-02\n",
       "1      2015-01-05\n",
       "2      2015-01-06\n",
       "3      2015-01-07\n",
       "4      2015-01-08\n",
       "          ...    \n",
       "1483   2020-11-20\n",
       "1484   2020-11-23\n",
       "1485   2020-11-24\n",
       "1486   2020-11-25\n",
       "1487   2020-11-27\n",
       "Name: Date, Length: 1488, dtype: datetime64[ns]"
      ]
     },
     "execution_count": 29,
     "metadata": {},
     "output_type": "execute_result"
    }
   ],
   "source": [
    "apple_stock[\"Date\"].astype(\"datetime64\")"
   ]
  },
  {
   "cell_type": "markdown",
   "metadata": {},
   "source": [
    "### Set the date as the index\n",
    "`"
   ]
  },
  {
   "cell_type": "code",
   "execution_count": 33,
   "metadata": {
    "ExecuteTime": {
     "end_time": "2020-11-30T11:27:37.058872Z",
     "start_time": "2020-11-30T11:27:37.013425Z"
    }
   },
   "outputs": [
    {
     "data": {
      "text/html": [
       "<div>\n",
       "<style scoped>\n",
       "    .dataframe tbody tr th:only-of-type {\n",
       "        vertical-align: middle;\n",
       "    }\n",
       "\n",
       "    .dataframe tbody tr th {\n",
       "        vertical-align: top;\n",
       "    }\n",
       "\n",
       "    .dataframe thead tr th {\n",
       "        text-align: left;\n",
       "    }\n",
       "\n",
       "    .dataframe thead tr:last-of-type th {\n",
       "        text-align: right;\n",
       "    }\n",
       "</style>\n",
       "<table border=\"1\" class=\"dataframe\">\n",
       "  <thead>\n",
       "    <tr>\n",
       "      <th>Attributes</th>\n",
       "      <th>level_0</th>\n",
       "      <th>index</th>\n",
       "      <th>Adj Close</th>\n",
       "      <th>Close</th>\n",
       "      <th>High</th>\n",
       "      <th>Low</th>\n",
       "      <th>Open</th>\n",
       "      <th>Volume</th>\n",
       "    </tr>\n",
       "    <tr>\n",
       "      <th>Symbols</th>\n",
       "      <th></th>\n",
       "      <th></th>\n",
       "      <th>AAPL</th>\n",
       "      <th>AAPL</th>\n",
       "      <th>AAPL</th>\n",
       "      <th>AAPL</th>\n",
       "      <th>AAPL</th>\n",
       "      <th>AAPL</th>\n",
       "    </tr>\n",
       "    <tr>\n",
       "      <th>Date</th>\n",
       "      <th></th>\n",
       "      <th></th>\n",
       "      <th></th>\n",
       "      <th></th>\n",
       "      <th></th>\n",
       "      <th></th>\n",
       "      <th></th>\n",
       "      <th></th>\n",
       "    </tr>\n",
       "  </thead>\n",
       "  <tbody>\n",
       "    <tr>\n",
       "      <th>2015-01-02</th>\n",
       "      <td>0</td>\n",
       "      <td>0</td>\n",
       "      <td>24.696352</td>\n",
       "      <td>27.332500</td>\n",
       "      <td>27.860001</td>\n",
       "      <td>26.837500</td>\n",
       "      <td>27.847500</td>\n",
       "      <td>212818400.0</td>\n",
       "    </tr>\n",
       "    <tr>\n",
       "      <th>2015-01-05</th>\n",
       "      <td>1</td>\n",
       "      <td>1</td>\n",
       "      <td>24.000614</td>\n",
       "      <td>26.562500</td>\n",
       "      <td>27.162500</td>\n",
       "      <td>26.352501</td>\n",
       "      <td>27.072500</td>\n",
       "      <td>257142000.0</td>\n",
       "    </tr>\n",
       "    <tr>\n",
       "      <th>2015-01-06</th>\n",
       "      <td>2</td>\n",
       "      <td>2</td>\n",
       "      <td>24.002876</td>\n",
       "      <td>26.565001</td>\n",
       "      <td>26.857500</td>\n",
       "      <td>26.157499</td>\n",
       "      <td>26.635000</td>\n",
       "      <td>263188400.0</td>\n",
       "    </tr>\n",
       "    <tr>\n",
       "      <th>2015-01-07</th>\n",
       "      <td>3</td>\n",
       "      <td>3</td>\n",
       "      <td>24.339447</td>\n",
       "      <td>26.937500</td>\n",
       "      <td>27.049999</td>\n",
       "      <td>26.674999</td>\n",
       "      <td>26.799999</td>\n",
       "      <td>160423600.0</td>\n",
       "    </tr>\n",
       "    <tr>\n",
       "      <th>2015-01-08</th>\n",
       "      <td>4</td>\n",
       "      <td>4</td>\n",
       "      <td>25.274624</td>\n",
       "      <td>27.972500</td>\n",
       "      <td>28.037500</td>\n",
       "      <td>27.174999</td>\n",
       "      <td>27.307501</td>\n",
       "      <td>237458000.0</td>\n",
       "    </tr>\n",
       "    <tr>\n",
       "      <th>...</th>\n",
       "      <td>...</td>\n",
       "      <td>...</td>\n",
       "      <td>...</td>\n",
       "      <td>...</td>\n",
       "      <td>...</td>\n",
       "      <td>...</td>\n",
       "      <td>...</td>\n",
       "      <td>...</td>\n",
       "    </tr>\n",
       "    <tr>\n",
       "      <th>2020-11-20</th>\n",
       "      <td>1483</td>\n",
       "      <td>1483</td>\n",
       "      <td>117.339996</td>\n",
       "      <td>117.339996</td>\n",
       "      <td>118.769997</td>\n",
       "      <td>117.290001</td>\n",
       "      <td>118.639999</td>\n",
       "      <td>73391400.0</td>\n",
       "    </tr>\n",
       "    <tr>\n",
       "      <th>2020-11-23</th>\n",
       "      <td>1484</td>\n",
       "      <td>1484</td>\n",
       "      <td>113.849998</td>\n",
       "      <td>113.849998</td>\n",
       "      <td>117.620003</td>\n",
       "      <td>113.750000</td>\n",
       "      <td>117.180000</td>\n",
       "      <td>127959300.0</td>\n",
       "    </tr>\n",
       "    <tr>\n",
       "      <th>2020-11-24</th>\n",
       "      <td>1485</td>\n",
       "      <td>1485</td>\n",
       "      <td>115.169998</td>\n",
       "      <td>115.169998</td>\n",
       "      <td>115.849998</td>\n",
       "      <td>112.589996</td>\n",
       "      <td>113.910004</td>\n",
       "      <td>113874200.0</td>\n",
       "    </tr>\n",
       "    <tr>\n",
       "      <th>2020-11-25</th>\n",
       "      <td>1486</td>\n",
       "      <td>1486</td>\n",
       "      <td>116.029999</td>\n",
       "      <td>116.029999</td>\n",
       "      <td>116.750000</td>\n",
       "      <td>115.169998</td>\n",
       "      <td>115.550003</td>\n",
       "      <td>76499200.0</td>\n",
       "    </tr>\n",
       "    <tr>\n",
       "      <th>2020-11-27</th>\n",
       "      <td>1487</td>\n",
       "      <td>1487</td>\n",
       "      <td>116.589996</td>\n",
       "      <td>116.589996</td>\n",
       "      <td>117.489998</td>\n",
       "      <td>116.220001</td>\n",
       "      <td>116.570000</td>\n",
       "      <td>46691300.0</td>\n",
       "    </tr>\n",
       "  </tbody>\n",
       "</table>\n",
       "<p>1488 rows × 8 columns</p>\n",
       "</div>"
      ],
      "text/plain": [
       "Attributes level_0 index   Adj Close       Close        High         Low  \\\n",
       "Symbols                         AAPL        AAPL        AAPL        AAPL   \n",
       "Date                                                                       \n",
       "2015-01-02       0     0   24.696352   27.332500   27.860001   26.837500   \n",
       "2015-01-05       1     1   24.000614   26.562500   27.162500   26.352501   \n",
       "2015-01-06       2     2   24.002876   26.565001   26.857500   26.157499   \n",
       "2015-01-07       3     3   24.339447   26.937500   27.049999   26.674999   \n",
       "2015-01-08       4     4   25.274624   27.972500   28.037500   27.174999   \n",
       "...            ...   ...         ...         ...         ...         ...   \n",
       "2020-11-20    1483  1483  117.339996  117.339996  118.769997  117.290001   \n",
       "2020-11-23    1484  1484  113.849998  113.849998  117.620003  113.750000   \n",
       "2020-11-24    1485  1485  115.169998  115.169998  115.849998  112.589996   \n",
       "2020-11-25    1486  1486  116.029999  116.029999  116.750000  115.169998   \n",
       "2020-11-27    1487  1487  116.589996  116.589996  117.489998  116.220001   \n",
       "\n",
       "Attributes        Open       Volume  \n",
       "Symbols           AAPL         AAPL  \n",
       "Date                                 \n",
       "2015-01-02   27.847500  212818400.0  \n",
       "2015-01-05   27.072500  257142000.0  \n",
       "2015-01-06   26.635000  263188400.0  \n",
       "2015-01-07   26.799999  160423600.0  \n",
       "2015-01-08   27.307501  237458000.0  \n",
       "...                ...          ...  \n",
       "2020-11-20  118.639999   73391400.0  \n",
       "2020-11-23  117.180000  127959300.0  \n",
       "2020-11-24  113.910004  113874200.0  \n",
       "2020-11-25  115.550003   76499200.0  \n",
       "2020-11-27  116.570000   46691300.0  \n",
       "\n",
       "[1488 rows x 8 columns]"
      ]
     },
     "execution_count": 33,
     "metadata": {},
     "output_type": "execute_result"
    }
   ],
   "source": [
    "apple= apple_stock.set_index(\"Date\")\n",
    "apple"
   ]
  },
  {
   "cell_type": "markdown",
   "metadata": {
    "ExecuteTime": {
     "end_time": "2020-11-30T11:27:51.836230Z",
     "start_time": "2020-11-30T11:27:51.819248Z"
    }
   },
   "source": [
    "### is there any duplicate dates?"
   ]
  },
  {
   "cell_type": "code",
   "execution_count": 35,
   "metadata": {
    "ExecuteTime": {
     "end_time": "2020-11-30T11:28:22.806544Z",
     "start_time": "2020-11-30T11:28:22.795554Z"
    }
   },
   "outputs": [
    {
     "data": {
      "text/plain": [
       "0"
      ]
     },
     "execution_count": 35,
     "metadata": {},
     "output_type": "execute_result"
    }
   ],
   "source": [
    "apple.index.duplicated().sum()"
   ]
  },
  {
   "cell_type": "markdown",
   "metadata": {},
   "source": [
    "### make the first entry the oldes date"
   ]
  },
  {
   "cell_type": "code",
   "execution_count": 36,
   "metadata": {
    "ExecuteTime": {
     "end_time": "2020-11-30T11:28:53.286055Z",
     "start_time": "2020-11-30T11:28:53.237096Z"
    }
   },
   "outputs": [
    {
     "data": {
      "text/html": [
       "<div>\n",
       "<style scoped>\n",
       "    .dataframe tbody tr th:only-of-type {\n",
       "        vertical-align: middle;\n",
       "    }\n",
       "\n",
       "    .dataframe tbody tr th {\n",
       "        vertical-align: top;\n",
       "    }\n",
       "\n",
       "    .dataframe thead tr th {\n",
       "        text-align: left;\n",
       "    }\n",
       "\n",
       "    .dataframe thead tr:last-of-type th {\n",
       "        text-align: right;\n",
       "    }\n",
       "</style>\n",
       "<table border=\"1\" class=\"dataframe\">\n",
       "  <thead>\n",
       "    <tr>\n",
       "      <th>Attributes</th>\n",
       "      <th>level_0</th>\n",
       "      <th>index</th>\n",
       "      <th>Adj Close</th>\n",
       "      <th>Close</th>\n",
       "      <th>High</th>\n",
       "      <th>Low</th>\n",
       "      <th>Open</th>\n",
       "      <th>Volume</th>\n",
       "    </tr>\n",
       "    <tr>\n",
       "      <th>Symbols</th>\n",
       "      <th></th>\n",
       "      <th></th>\n",
       "      <th>AAPL</th>\n",
       "      <th>AAPL</th>\n",
       "      <th>AAPL</th>\n",
       "      <th>AAPL</th>\n",
       "      <th>AAPL</th>\n",
       "      <th>AAPL</th>\n",
       "    </tr>\n",
       "    <tr>\n",
       "      <th>Date</th>\n",
       "      <th></th>\n",
       "      <th></th>\n",
       "      <th></th>\n",
       "      <th></th>\n",
       "      <th></th>\n",
       "      <th></th>\n",
       "      <th></th>\n",
       "      <th></th>\n",
       "    </tr>\n",
       "  </thead>\n",
       "  <tbody>\n",
       "    <tr>\n",
       "      <th>2015-01-02</th>\n",
       "      <td>0</td>\n",
       "      <td>0</td>\n",
       "      <td>24.696352</td>\n",
       "      <td>27.332500</td>\n",
       "      <td>27.860001</td>\n",
       "      <td>26.837500</td>\n",
       "      <td>27.847500</td>\n",
       "      <td>212818400.0</td>\n",
       "    </tr>\n",
       "    <tr>\n",
       "      <th>2015-01-05</th>\n",
       "      <td>1</td>\n",
       "      <td>1</td>\n",
       "      <td>24.000614</td>\n",
       "      <td>26.562500</td>\n",
       "      <td>27.162500</td>\n",
       "      <td>26.352501</td>\n",
       "      <td>27.072500</td>\n",
       "      <td>257142000.0</td>\n",
       "    </tr>\n",
       "    <tr>\n",
       "      <th>2015-01-06</th>\n",
       "      <td>2</td>\n",
       "      <td>2</td>\n",
       "      <td>24.002876</td>\n",
       "      <td>26.565001</td>\n",
       "      <td>26.857500</td>\n",
       "      <td>26.157499</td>\n",
       "      <td>26.635000</td>\n",
       "      <td>263188400.0</td>\n",
       "    </tr>\n",
       "    <tr>\n",
       "      <th>2015-01-07</th>\n",
       "      <td>3</td>\n",
       "      <td>3</td>\n",
       "      <td>24.339447</td>\n",
       "      <td>26.937500</td>\n",
       "      <td>27.049999</td>\n",
       "      <td>26.674999</td>\n",
       "      <td>26.799999</td>\n",
       "      <td>160423600.0</td>\n",
       "    </tr>\n",
       "    <tr>\n",
       "      <th>2015-01-08</th>\n",
       "      <td>4</td>\n",
       "      <td>4</td>\n",
       "      <td>25.274624</td>\n",
       "      <td>27.972500</td>\n",
       "      <td>28.037500</td>\n",
       "      <td>27.174999</td>\n",
       "      <td>27.307501</td>\n",
       "      <td>237458000.0</td>\n",
       "    </tr>\n",
       "    <tr>\n",
       "      <th>...</th>\n",
       "      <td>...</td>\n",
       "      <td>...</td>\n",
       "      <td>...</td>\n",
       "      <td>...</td>\n",
       "      <td>...</td>\n",
       "      <td>...</td>\n",
       "      <td>...</td>\n",
       "      <td>...</td>\n",
       "    </tr>\n",
       "    <tr>\n",
       "      <th>2020-11-20</th>\n",
       "      <td>1483</td>\n",
       "      <td>1483</td>\n",
       "      <td>117.339996</td>\n",
       "      <td>117.339996</td>\n",
       "      <td>118.769997</td>\n",
       "      <td>117.290001</td>\n",
       "      <td>118.639999</td>\n",
       "      <td>73391400.0</td>\n",
       "    </tr>\n",
       "    <tr>\n",
       "      <th>2020-11-23</th>\n",
       "      <td>1484</td>\n",
       "      <td>1484</td>\n",
       "      <td>113.849998</td>\n",
       "      <td>113.849998</td>\n",
       "      <td>117.620003</td>\n",
       "      <td>113.750000</td>\n",
       "      <td>117.180000</td>\n",
       "      <td>127959300.0</td>\n",
       "    </tr>\n",
       "    <tr>\n",
       "      <th>2020-11-24</th>\n",
       "      <td>1485</td>\n",
       "      <td>1485</td>\n",
       "      <td>115.169998</td>\n",
       "      <td>115.169998</td>\n",
       "      <td>115.849998</td>\n",
       "      <td>112.589996</td>\n",
       "      <td>113.910004</td>\n",
       "      <td>113874200.0</td>\n",
       "    </tr>\n",
       "    <tr>\n",
       "      <th>2020-11-25</th>\n",
       "      <td>1486</td>\n",
       "      <td>1486</td>\n",
       "      <td>116.029999</td>\n",
       "      <td>116.029999</td>\n",
       "      <td>116.750000</td>\n",
       "      <td>115.169998</td>\n",
       "      <td>115.550003</td>\n",
       "      <td>76499200.0</td>\n",
       "    </tr>\n",
       "    <tr>\n",
       "      <th>2020-11-27</th>\n",
       "      <td>1487</td>\n",
       "      <td>1487</td>\n",
       "      <td>116.589996</td>\n",
       "      <td>116.589996</td>\n",
       "      <td>117.489998</td>\n",
       "      <td>116.220001</td>\n",
       "      <td>116.570000</td>\n",
       "      <td>46691300.0</td>\n",
       "    </tr>\n",
       "  </tbody>\n",
       "</table>\n",
       "<p>1488 rows × 8 columns</p>\n",
       "</div>"
      ],
      "text/plain": [
       "Attributes level_0 index   Adj Close       Close        High         Low  \\\n",
       "Symbols                         AAPL        AAPL        AAPL        AAPL   \n",
       "Date                                                                       \n",
       "2015-01-02       0     0   24.696352   27.332500   27.860001   26.837500   \n",
       "2015-01-05       1     1   24.000614   26.562500   27.162500   26.352501   \n",
       "2015-01-06       2     2   24.002876   26.565001   26.857500   26.157499   \n",
       "2015-01-07       3     3   24.339447   26.937500   27.049999   26.674999   \n",
       "2015-01-08       4     4   25.274624   27.972500   28.037500   27.174999   \n",
       "...            ...   ...         ...         ...         ...         ...   \n",
       "2020-11-20    1483  1483  117.339996  117.339996  118.769997  117.290001   \n",
       "2020-11-23    1484  1484  113.849998  113.849998  117.620003  113.750000   \n",
       "2020-11-24    1485  1485  115.169998  115.169998  115.849998  112.589996   \n",
       "2020-11-25    1486  1486  116.029999  116.029999  116.750000  115.169998   \n",
       "2020-11-27    1487  1487  116.589996  116.589996  117.489998  116.220001   \n",
       "\n",
       "Attributes        Open       Volume  \n",
       "Symbols           AAPL         AAPL  \n",
       "Date                                 \n",
       "2015-01-02   27.847500  212818400.0  \n",
       "2015-01-05   27.072500  257142000.0  \n",
       "2015-01-06   26.635000  263188400.0  \n",
       "2015-01-07   26.799999  160423600.0  \n",
       "2015-01-08   27.307501  237458000.0  \n",
       "...                ...          ...  \n",
       "2020-11-20  118.639999   73391400.0  \n",
       "2020-11-23  117.180000  127959300.0  \n",
       "2020-11-24  113.910004  113874200.0  \n",
       "2020-11-25  115.550003   76499200.0  \n",
       "2020-11-27  116.570000   46691300.0  \n",
       "\n",
       "[1488 rows x 8 columns]"
      ]
     },
     "execution_count": 36,
     "metadata": {},
     "output_type": "execute_result"
    }
   ],
   "source": [
    "apple.sort_index()"
   ]
  },
  {
   "cell_type": "markdown",
   "metadata": {},
   "source": [
    "### get the last business day of each month"
   ]
  },
  {
   "cell_type": "code",
   "execution_count": 40,
   "metadata": {
    "ExecuteTime": {
     "end_time": "2020-11-30T11:45:35.774609Z",
     "start_time": "2020-11-30T11:45:35.725658Z"
    }
   },
   "outputs": [
    {
     "data": {
      "text/html": [
       "<div>\n",
       "<style scoped>\n",
       "    .dataframe tbody tr th:only-of-type {\n",
       "        vertical-align: middle;\n",
       "    }\n",
       "\n",
       "    .dataframe tbody tr th {\n",
       "        vertical-align: top;\n",
       "    }\n",
       "\n",
       "    .dataframe thead tr th {\n",
       "        text-align: left;\n",
       "    }\n",
       "\n",
       "    .dataframe thead tr:last-of-type th {\n",
       "        text-align: right;\n",
       "    }\n",
       "</style>\n",
       "<table border=\"1\" class=\"dataframe\">\n",
       "  <thead>\n",
       "    <tr>\n",
       "      <th>Attributes</th>\n",
       "      <th>level_0</th>\n",
       "      <th>index</th>\n",
       "      <th>Adj Close</th>\n",
       "      <th>Close</th>\n",
       "      <th>High</th>\n",
       "      <th>Low</th>\n",
       "      <th>Open</th>\n",
       "      <th>Volume</th>\n",
       "    </tr>\n",
       "    <tr>\n",
       "      <th>Symbols</th>\n",
       "      <th></th>\n",
       "      <th></th>\n",
       "      <th>AAPL</th>\n",
       "      <th>AAPL</th>\n",
       "      <th>AAPL</th>\n",
       "      <th>AAPL</th>\n",
       "      <th>AAPL</th>\n",
       "      <th>AAPL</th>\n",
       "    </tr>\n",
       "    <tr>\n",
       "      <th>Date</th>\n",
       "      <th></th>\n",
       "      <th></th>\n",
       "      <th></th>\n",
       "      <th></th>\n",
       "      <th></th>\n",
       "      <th></th>\n",
       "      <th></th>\n",
       "      <th></th>\n",
       "    </tr>\n",
       "  </thead>\n",
       "  <tbody>\n",
       "    <tr>\n",
       "      <th>2015-01-30</th>\n",
       "      <td>9.5</td>\n",
       "      <td>9.5</td>\n",
       "      <td>24.992603</td>\n",
       "      <td>27.660375</td>\n",
       "      <td>28.063500</td>\n",
       "      <td>27.333000</td>\n",
       "      <td>27.791000</td>\n",
       "      <td>2.610527e+08</td>\n",
       "    </tr>\n",
       "    <tr>\n",
       "      <th>2015-02-27</th>\n",
       "      <td>29.0</td>\n",
       "      <td>29.0</td>\n",
       "      <td>28.428704</td>\n",
       "      <td>31.358026</td>\n",
       "      <td>31.536184</td>\n",
       "      <td>31.007763</td>\n",
       "      <td>31.255921</td>\n",
       "      <td>2.392706e+08</td>\n",
       "    </tr>\n",
       "    <tr>\n",
       "      <th>2015-03-31</th>\n",
       "      <td>49.5</td>\n",
       "      <td>49.5</td>\n",
       "      <td>28.567636</td>\n",
       "      <td>31.492727</td>\n",
       "      <td>31.859091</td>\n",
       "      <td>31.246477</td>\n",
       "      <td>31.616591</td>\n",
       "      <td>2.070258e+08</td>\n",
       "    </tr>\n",
       "    <tr>\n",
       "      <th>2015-04-30</th>\n",
       "      <td>71.0</td>\n",
       "      <td>71.0</td>\n",
       "      <td>28.867103</td>\n",
       "      <td>31.822857</td>\n",
       "      <td>32.105595</td>\n",
       "      <td>31.556191</td>\n",
       "      <td>31.883810</td>\n",
       "      <td>1.897401e+08</td>\n",
       "    </tr>\n",
       "    <tr>\n",
       "      <th>2015-05-29</th>\n",
       "      <td>91.5</td>\n",
       "      <td>91.5</td>\n",
       "      <td>29.298375</td>\n",
       "      <td>32.190375</td>\n",
       "      <td>32.442750</td>\n",
       "      <td>31.915750</td>\n",
       "      <td>32.176875</td>\n",
       "      <td>1.908304e+08</td>\n",
       "    </tr>\n",
       "  </tbody>\n",
       "</table>\n",
       "</div>"
      ],
      "text/plain": [
       "Attributes level_0 index  Adj Close      Close       High        Low  \\\n",
       "Symbols                        AAPL       AAPL       AAPL       AAPL   \n",
       "Date                                                                   \n",
       "2015-01-30     9.5   9.5  24.992603  27.660375  28.063500  27.333000   \n",
       "2015-02-27    29.0  29.0  28.428704  31.358026  31.536184  31.007763   \n",
       "2015-03-31    49.5  49.5  28.567636  31.492727  31.859091  31.246477   \n",
       "2015-04-30    71.0  71.0  28.867103  31.822857  32.105595  31.556191   \n",
       "2015-05-29    91.5  91.5  29.298375  32.190375  32.442750  31.915750   \n",
       "\n",
       "Attributes       Open        Volume  \n",
       "Symbols          AAPL          AAPL  \n",
       "Date                                 \n",
       "2015-01-30  27.791000  2.610527e+08  \n",
       "2015-02-27  31.255921  2.392706e+08  \n",
       "2015-03-31  31.616591  2.070258e+08  \n",
       "2015-04-30  31.883810  1.897401e+08  \n",
       "2015-05-29  32.176875  1.908304e+08  "
      ]
     },
     "execution_count": 40,
     "metadata": {},
     "output_type": "execute_result"
    }
   ],
   "source": [
    "lastdate=pd.date_range(start=timerange[0], end= dt.datetime.today(), freq=\"BM\")\n",
    "apple.groupby(pd.Grouper(freq=\"BM\")).mean().head()"
   ]
  },
  {
   "cell_type": "markdown",
   "metadata": {},
   "source": [
    "### What is the difference in days between the first day and the oldest"
   ]
  },
  {
   "cell_type": "code",
   "execution_count": 41,
   "metadata": {
    "ExecuteTime": {
     "end_time": "2020-11-30T11:47:19.429924Z",
     "start_time": "2020-11-30T11:47:19.416937Z"
    }
   },
   "outputs": [
    {
     "data": {
      "text/plain": [
       "Timedelta('2156 days 00:00:00')"
      ]
     },
     "execution_count": 41,
     "metadata": {},
     "output_type": "execute_result"
    }
   ],
   "source": [
    "apple.index.max()-apple.index.min()"
   ]
  },
  {
   "cell_type": "markdown",
   "metadata": {},
   "source": [
    "### how many months in the data we have?"
   ]
  },
  {
   "cell_type": "code",
   "execution_count": 42,
   "metadata": {
    "ExecuteTime": {
     "end_time": "2020-11-30T11:48:19.482499Z",
     "start_time": "2020-11-30T11:48:19.451528Z"
    }
   },
   "outputs": [
    {
     "data": {
      "text/plain": [
       "71"
      ]
     },
     "execution_count": 42,
     "metadata": {},
     "output_type": "execute_result"
    }
   ],
   "source": [
    "len(apple.groupby(pd.Grouper(freq=\"m\")).mean())"
   ]
  },
  {
   "cell_type": "code",
   "execution_count": null,
   "metadata": {},
   "outputs": [],
   "source": []
  }
 ],
 "metadata": {
  "kernelspec": {
   "display_name": "Python 3",
   "language": "python",
   "name": "python3"
  },
  "language_info": {
   "codemirror_mode": {
    "name": "ipython",
    "version": 3
   },
   "file_extension": ".py",
   "mimetype": "text/x-python",
   "name": "python",
   "nbconvert_exporter": "python",
   "pygments_lexer": "ipython3",
   "version": "3.8.3"
  },
  "toc": {
   "base_numbering": 1,
   "nav_menu": {},
   "number_sections": true,
   "sideBar": true,
   "skip_h1_title": false,
   "title_cell": "Table of Contents",
   "title_sidebar": "Contents",
   "toc_cell": false,
   "toc_position": {},
   "toc_section_display": true,
   "toc_window_display": false
  },
  "varInspector": {
   "cols": {
    "lenName": 16,
    "lenType": 16,
    "lenVar": 40
   },
   "kernels_config": {
    "python": {
     "delete_cmd_postfix": "",
     "delete_cmd_prefix": "del ",
     "library": "var_list.py",
     "varRefreshCmd": "print(var_dic_list())"
    },
    "r": {
     "delete_cmd_postfix": ") ",
     "delete_cmd_prefix": "rm(",
     "library": "var_list.r",
     "varRefreshCmd": "cat(var_dic_list()) "
    }
   },
   "types_to_exclude": [
    "module",
    "function",
    "builtin_function_or_method",
    "instance",
    "_Feature"
   ],
   "window_display": false
  }
 },
 "nbformat": 4,
 "nbformat_minor": 4
}
