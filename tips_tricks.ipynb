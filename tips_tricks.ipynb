{
 "cells": [
  {
   "cell_type": "markdown",
   "metadata": {},
   "source": [
    "#### area of circle"
   ]
  },
  {
   "cell_type": "markdown",
   "metadata": {
    "ExecuteTime": {
     "end_time": "2020-10-27T17:48:15.690890Z",
     "start_time": "2020-10-27T17:48:15.672020Z"
    }
   },
   "source": [
    "- A=πr2"
   ]
  },
  {
   "cell_type": "markdown",
   "metadata": {
    "ExecuteTime": {
     "end_time": "2020-10-27T17:49:46.736754Z",
     "start_time": "2020-10-27T17:49:46.731657Z"
    }
   },
   "source": [
    "#### say hello to user, expected, 'hello name'"
   ]
  },
  {
   "cell_type": "code",
   "execution_count": 21,
   "metadata": {
    "ExecuteTime": {
     "end_time": "2020-10-28T11:23:12.338682Z",
     "start_time": "2020-10-28T11:23:07.790951Z"
    }
   },
   "outputs": [
    {
     "name": "stdout",
     "output_type": "stream",
     "text": [
      "enter your name:Chhimi\n",
      "hello Chhimi\n"
     ]
    }
   ],
   "source": [
    "a= input(\"enter your name:\")\n",
    "print (\"hello {}\".format(a))"
   ]
  },
  {
   "cell_type": "markdown",
   "metadata": {},
   "source": [
    "#### volume of sphere"
   ]
  },
  {
   "cell_type": "markdown",
   "metadata": {
    "ExecuteTime": {
     "end_time": "2020-10-27T17:52:05.726314Z",
     "start_time": "2020-10-27T17:52:05.703306Z"
    }
   },
   "source": [
    "- volume = 4.0/3.0 * math.pi * (r*r*r)"
   ]
  },
  {
   "cell_type": "code",
   "execution_count": 35,
   "metadata": {
    "ExecuteTime": {
     "end_time": "2020-10-28T11:47:51.712500Z",
     "start_time": "2020-10-28T11:47:49.647302Z"
    }
   },
   "outputs": [
    {
     "name": "stdout",
     "output_type": "stream",
     "text": [
      "enter the radius of sphere:6\n",
      "the volume of sphere with radius6.0 is  904.78\n"
     ]
    }
   ],
   "source": [
    "import math\n",
    "r= input(\"enter the radius of sphere:\")\n",
    "r= float(r)\n",
    "vol= 4/3*math.pi*r**3\n",
    "print(f\"the volume of sphere with radius{r} is \",\"%.2f\" %vol)"
   ]
  },
  {
   "cell_type": "markdown",
   "metadata": {},
   "source": [
    "#### copy string in n times"
   ]
  },
  {
   "cell_type": "code",
   "execution_count": 39,
   "metadata": {
    "ExecuteTime": {
     "end_time": "2020-10-28T11:50:21.779528Z",
     "start_time": "2020-10-28T11:50:21.763544Z"
    }
   },
   "outputs": [
    {
     "name": "stdout",
     "output_type": "stream",
     "text": [
      "this is a string\n",
      "this is a string\n",
      "this is a string\n",
      "this is a string\n",
      "this is a string\n"
     ]
    }
   ],
   "source": [
    "string = \"this is a string\"\n",
    "n= 5\n",
    "for i in range(n):\n",
    "    print(string)"
   ]
  },
  {
   "cell_type": "markdown",
   "metadata": {},
   "source": [
    "#### calculate the area of triangel "
   ]
  },
  {
   "cell_type": "markdown",
   "metadata": {
    "ExecuteTime": {
     "end_time": "2020-10-27T18:04:11.808568Z",
     "start_time": "2020-10-27T18:04:11.783591Z"
    }
   },
   "source": [
    "- 1/2 *b*h"
   ]
  },
  {
   "cell_type": "markdown",
   "metadata": {},
   "source": [
    "#### calculate interest"
   ]
  },
  {
   "cell_type": "code",
   "execution_count": 41,
   "metadata": {
    "ExecuteTime": {
     "end_time": "2020-10-28T11:52:07.378645Z",
     "start_time": "2020-10-28T11:52:03.308742Z"
    }
   },
   "outputs": [
    {
     "name": "stdout",
     "output_type": "stream",
     "text": [
      "put principle here:8\n",
      "put time here:9\n",
      "648\n"
     ]
    }
   ],
   "source": [
    "p = int(input(\"put principle here:\"))\n",
    "t= int(input(\"put time here:\"))\n",
    "r= t\n",
    "\n",
    "I = p*t*r \n",
    "print (I)\n",
    "\n",
    "\n",
    "\n",
    "\n",
    "\n"
   ]
  },
  {
   "cell_type": "markdown",
   "metadata": {},
   "source": [
    "#### calculate Euclidean Distance"
   ]
  },
  {
   "cell_type": "markdown",
   "metadata": {},
   "source": [
    " plot1 = [1,3]\n",
    " plot2 = [2,5]\n",
    "euclidean_distance = sqrt( (plot1[0]-plot2[0])**2 + (plot1[1]-plot2[1])**2 "
   ]
  },
  {
   "cell_type": "code",
   "execution_count": 2,
   "metadata": {
    "ExecuteTime": {
     "end_time": "2020-10-28T07:56:33.246233Z",
     "start_time": "2020-10-28T07:56:18.090558Z"
    }
   },
   "outputs": [
    {
     "name": "stdout",
     "output_type": "stream",
     "text": [
      "enter two lists1, 3\n",
      "enter two lists2,5\n"
     ]
    }
   ],
   "source": [
    "import math \n",
    "\n",
    "P= list(input(\"enter two lists\"))\n",
    "r= list(input(\"enter two lists\"))\n",
    "\n",
    "\n",
    "               \n"
   ]
  },
  {
   "cell_type": "code",
   "execution_count": 5,
   "metadata": {
    "ExecuteTime": {
     "end_time": "2020-10-28T07:57:51.936667Z",
     "start_time": "2020-10-28T07:57:51.890597Z"
    }
   },
   "outputs": [
    {
     "ename": "TypeError",
     "evalue": "unsupported operand type(s) for ** or pow(): 'str' and 'int'",
     "output_type": "error",
     "traceback": [
      "\u001b[1;31m---------------------------------------------------------------------------\u001b[0m",
      "\u001b[1;31mTypeError\u001b[0m                                 Traceback (most recent call last)",
      "\u001b[1;32m<ipython-input-5-db18abbedde5>\u001b[0m in \u001b[0;36m<module>\u001b[1;34m\u001b[0m\n\u001b[1;32m----> 1\u001b[1;33m \u001b[0meuclidean_distance\u001b[0m\u001b[1;33m=\u001b[0m \u001b[0mmath\u001b[0m\u001b[1;33m.\u001b[0m\u001b[0msqrt\u001b[0m\u001b[1;33m(\u001b[0m\u001b[1;33m(\u001b[0m\u001b[0mP\u001b[0m\u001b[1;33m[\u001b[0m\u001b[1;36m0\u001b[0m\u001b[1;33m]\u001b[0m\u001b[1;33m)\u001b[0m\u001b[1;33m-\u001b[0m\u001b[1;33m(\u001b[0m\u001b[0mr\u001b[0m\u001b[1;33m[\u001b[0m\u001b[1;36m0\u001b[0m\u001b[1;33m]\u001b[0m\u001b[1;33m)\u001b[0m\u001b[1;33m**\u001b[0m\u001b[1;36m2\u001b[0m \u001b[1;33m+\u001b[0m \u001b[1;33m(\u001b[0m\u001b[0mP\u001b[0m\u001b[1;33m[\u001b[0m\u001b[1;36m1\u001b[0m\u001b[1;33m]\u001b[0m\u001b[1;33m)\u001b[0m\u001b[1;33m-\u001b[0m \u001b[1;33m(\u001b[0m\u001b[0mr\u001b[0m\u001b[1;33m[\u001b[0m\u001b[1;36m1\u001b[0m\u001b[1;33m]\u001b[0m\u001b[1;33m)\u001b[0m\u001b[1;33m**\u001b[0m\u001b[1;36m2\u001b[0m\u001b[1;33m)\u001b[0m\u001b[1;33m\u001b[0m\u001b[1;33m\u001b[0m\u001b[0m\n\u001b[0m\u001b[0;32m      2\u001b[0m \u001b[0mprint\u001b[0m\u001b[1;33m(\u001b[0m\u001b[0meuclidean_distance\u001b[0m\u001b[1;33m)\u001b[0m\u001b[1;33m\u001b[0m\u001b[1;33m\u001b[0m\u001b[0m\n",
      "\u001b[1;31mTypeError\u001b[0m: unsupported operand type(s) for ** or pow(): 'str' and 'int'"
     ]
    }
   ],
   "source": [
    "euclidean_distance= math.sqrt((P[0])-(r[0])**2 + (P[1])- (r[1])**2)\n",
    "print(euclidean_distance)"
   ]
  },
  {
   "cell_type": "code",
   "execution_count": 7,
   "metadata": {
    "ExecuteTime": {
     "end_time": "2020-10-28T07:59:03.546281Z",
     "start_time": "2020-10-28T07:59:03.529051Z"
    }
   },
   "outputs": [
    {
     "name": "stdout",
     "output_type": "stream",
     "text": [
      "['1', ',', ' ', '3']\n"
     ]
    }
   ],
   "source": [
    "print(P)"
   ]
  },
  {
   "cell_type": "markdown",
   "metadata": {
    "ExecuteTime": {
     "end_time": "2020-10-27T19:42:02.036780Z",
     "start_time": "2020-10-27T19:42:02.018797Z"
    }
   },
   "source": [
    "#### Feet to centimeter Converter"
   ]
  },
  {
   "cell_type": "markdown",
   "metadata": {},
   "source": [
    "- 1 foot = 30.48 centimeter"
   ]
  },
  {
   "cell_type": "code",
   "execution_count": 45,
   "metadata": {
    "ExecuteTime": {
     "end_time": "2020-10-28T12:21:16.419719Z",
     "start_time": "2020-10-28T12:21:14.580756Z"
    }
   },
   "outputs": [
    {
     "name": "stdout",
     "output_type": "stream",
     "text": [
      "give me length in feet\n",
      "89\n",
      "this is 2712.72cm\n"
     ]
    }
   ],
   "source": [
    "feet= float(input(\"give me length in feet\\n\"))\n",
    "cm=feet*30.48\n",
    "print (\"this is {:.2f}cm\".format(cm))"
   ]
  },
  {
   "cell_type": "markdown",
   "metadata": {
    "ExecuteTime": {
     "end_time": "2020-10-27T19:52:57.324603Z",
     "start_time": "2020-10-27T19:52:57.320606Z"
    }
   },
   "source": [
    "#### BMI calculator\n",
    "- body mass index\n",
    "- m/(h*h)"
   ]
  },
  {
   "cell_type": "code",
   "execution_count": 3,
   "metadata": {
    "ExecuteTime": {
     "end_time": "2020-10-28T12:47:25.829642Z",
     "start_time": "2020-10-28T12:47:17.834676Z"
    }
   },
   "outputs": [
    {
     "name": "stdout",
     "output_type": "stream",
     "text": [
      "input your height in meters:5\n",
      "input your weight in kilogram:70\n",
      "your body mass is: 3\n"
     ]
    }
   ],
   "source": [
    "import math \n",
    "\n",
    "height =float(input(\"input your height in meters:\"))\n",
    "weight = float(input(\"input your weight in kilogram:\"))\n",
    "print(\"your body mass is:\", round (weight/(height*height)))\n"
   ]
  },
  {
   "cell_type": "markdown",
   "metadata": {},
   "source": [
    "#### binary to decimal "
   ]
  },
  {
   "cell_type": "markdown",
   "metadata": {},
   "source": [
    "- binary 01\n",
    "- decimal 0-9"
   ]
  },
  {
   "cell_type": "code",
   "execution_count": 8,
   "metadata": {
    "ExecuteTime": {
     "end_time": "2020-10-28T12:54:32.152695Z",
     "start_time": "2020-10-28T12:54:32.141705Z"
    },
    "scrolled": true
   },
   "outputs": [
    {
     "data": {
      "text/plain": [
       "'0b11001'"
      ]
     },
     "execution_count": 8,
     "metadata": {},
     "output_type": "execute_result"
    }
   ],
   "source": [
    "bin(25)\n"
   ]
  },
  {
   "cell_type": "code",
   "execution_count": 3,
   "metadata": {
    "ExecuteTime": {
     "end_time": "2020-10-28T13:20:11.800728Z",
     "start_time": "2020-10-28T13:20:08.327915Z"
    }
   },
   "outputs": [
    {
     "name": "stdout",
     "output_type": "stream",
     "text": [
      "enter a binary number:56\n"
     ]
    }
   ],
   "source": [
    "import math \n",
    "\n",
    "binary = input(\"enter a binary number:\")\n",
    "\n",
    "def binary_to_decimal(binary):\n",
    "    decimal= 0\n",
    "    binary= list(str(binary))\n",
    "    binary= binary[::-1]\n",
    "    power=0         #declare power variable (for 1st elem==0)\n",
    "    for number in binary:\n",
    "        if number =='1':\n",
    "            decimal +=2**power\n",
    "        power += 1 # increase power by 1\n",
    "    return decimal"
   ]
  },
  {
   "cell_type": "markdown",
   "metadata": {
    "ExecuteTime": {
     "end_time": "2020-10-27T20:02:38.163402Z",
     "start_time": "2020-10-27T20:02:38.149414Z"
    }
   },
   "source": [
    "####  receive two integral numbers in string form and compute their sum and then print it in console."
   ]
  },
  {
   "cell_type": "code",
   "execution_count": 5,
   "metadata": {
    "ExecuteTime": {
     "end_time": "2020-10-28T14:35:46.338355Z",
     "start_time": "2020-10-28T14:35:44.113612Z"
    }
   },
   "outputs": [
    {
     "name": "stdout",
     "output_type": "stream",
     "text": [
      "enter first number:6\n",
      "enter second number:6\n",
      "12\n"
     ]
    }
   ],
   "source": [
    "a= input(\"enter first number:\")\n",
    "b= input (\"enter second number:\")\n",
    "\n",
    "a= int(a)\n",
    "b= int(b)\n",
    "\n",
    "sum= a+b\n",
    "print(sum)\n",
    "\n",
    "\n",
    "\n"
   ]
  },
  {
   "cell_type": "markdown",
   "metadata": {
    "ExecuteTime": {
     "end_time": "2020-10-27T20:08:17.875402Z",
     "start_time": "2020-10-27T20:08:17.865409Z"
    }
   },
   "source": [
    "#### . bitwise operators for any two variable all the bitwise operator that are there"
   ]
  },
  {
   "cell_type": "markdown",
   "metadata": {},
   "source": [
    "- complement(~), And (&), or(|), xor, left shift(<<), right shift(>>)"
   ]
  },
  {
   "cell_type": "code",
   "execution_count": 12,
   "metadata": {
    "ExecuteTime": {
     "end_time": "2020-10-28T15:05:33.760668Z",
     "start_time": "2020-10-28T15:05:33.742682Z"
    }
   },
   "outputs": [
    {
     "data": {
      "text/plain": [
       "7"
      ]
     },
     "execution_count": 12,
     "metadata": {},
     "output_type": "execute_result"
    }
   ],
   "source": [
    "5 and 7 # Actually, ‘and’ sees the value on the left. If it has a True Boolean value, \n",
    "#it returns whatever value is on the right. Otherwise, \n",
    "#it returns False. So, here, 5 and 7 is the same as True and 7. Hence, \n",
    "# it returns 7. However, 5&7 is the same as 101&111. \n",
    "#This results in 101, which is binary for 5.\n"
   ]
  },
  {
   "cell_type": "code",
   "execution_count": 10,
   "metadata": {
    "ExecuteTime": {
     "end_time": "2020-10-28T15:04:55.229865Z",
     "start_time": "2020-10-28T15:04:55.216879Z"
    }
   },
   "outputs": [
    {
     "data": {
      "text/plain": [
       "5"
      ]
     },
     "execution_count": 10,
     "metadata": {},
     "output_type": "execute_result"
    }
   ],
   "source": [
    "5 & 7 \n",
    "# 0 & 0 = 0\n",
    "# 0 & 1 = 0\n",
    "# 1 & 0 = 0\n",
    "# 1 & 1 = 1"
   ]
  },
  {
   "cell_type": "code",
   "execution_count": 16,
   "metadata": {
    "ExecuteTime": {
     "end_time": "2020-10-28T15:25:00.787350Z",
     "start_time": "2020-10-28T15:25:00.780356Z"
    }
   },
   "outputs": [
    {
     "data": {
      "text/plain": [
       "7"
      ]
     },
     "execution_count": 16,
     "metadata": {},
     "output_type": "execute_result"
    }
   ],
   "source": [
    "5|7 # or\n",
    "#0|0 =0\n",
    "#0|1= 1\n",
    "#1|0 = 1\n",
    "#1|1 = 1"
   ]
  },
  {
   "cell_type": "code",
   "execution_count": 18,
   "metadata": {
    "ExecuteTime": {
     "end_time": "2020-10-28T15:26:20.469946Z",
     "start_time": "2020-10-28T15:26:20.451962Z"
    }
   },
   "outputs": [
    {
     "data": {
      "text/plain": [
       "2"
      ]
     },
     "execution_count": 18,
     "metadata": {},
     "output_type": "execute_result"
    }
   ],
   "source": [
    "5^7 # xor\n",
    "#0^0=0\n",
    "#0^1=1\n",
    "#1^0=1\n",
    "#1^1= 0\n"
   ]
  },
  {
   "cell_type": "code",
   "execution_count": 19,
   "metadata": {
    "ExecuteTime": {
     "end_time": "2020-10-28T15:27:09.112684Z",
     "start_time": "2020-10-28T15:27:09.091706Z"
    }
   },
   "outputs": [
    {
     "data": {
      "text/plain": [
       "-3"
      ]
     },
     "execution_count": 19,
     "metadata": {},
     "output_type": "execute_result"
    }
   ],
   "source": [
    "~2 # complement"
   ]
  },
  {
   "cell_type": "code",
   "execution_count": 22,
   "metadata": {
    "ExecuteTime": {
     "end_time": "2020-10-28T15:30:26.080913Z",
     "start_time": "2020-10-28T15:30:26.065927Z"
    }
   },
   "outputs": [
    {
     "data": {
      "text/plain": [
       "160"
      ]
     },
     "execution_count": 22,
     "metadata": {},
     "output_type": "execute_result"
    }
   ],
   "source": [
    "10 << 4 # left shift operator "
   ]
  },
  {
   "cell_type": "code",
   "execution_count": 23,
   "metadata": {
    "ExecuteTime": {
     "end_time": "2020-10-28T15:30:33.769441Z",
     "start_time": "2020-10-28T15:30:33.759452Z"
    }
   },
   "outputs": [
    {
     "data": {
      "text/plain": [
       "0"
      ]
     },
     "execution_count": 23,
     "metadata": {},
     "output_type": "execute_result"
    }
   ],
   "source": [
    "10 >> 4 # right shift operator "
   ]
  },
  {
   "cell_type": "markdown",
   "metadata": {},
   "source": [
    "#### shift operators"
   ]
  },
  {
   "cell_type": "code",
   "execution_count": null,
   "metadata": {},
   "outputs": [],
   "source": []
  },
  {
   "cell_type": "markdown",
   "metadata": {},
   "source": [
    "####  str1=\" this is a sample datTaa to test for the task\" Check if ‘is’ present in str1\n"
   ]
  },
  {
   "cell_type": "code",
   "execution_count": 26,
   "metadata": {
    "ExecuteTime": {
     "end_time": "2020-10-28T15:43:25.467620Z",
     "start_time": "2020-10-28T15:43:25.453636Z"
    }
   },
   "outputs": [],
   "source": [
    "str1= \"this is a sample daTaa to test for the task\"\n",
    "substr = 'is'\n",
    "substr1 = 'was'\n",
    "\n",
    "def search(substr):\n",
    "    result = str1.find(substr)\n",
    "    if result == -1:\n",
    "        print('given substr is not found')\n",
    "    else:\n",
    "        print('substr found at index:', result)\n",
    "        "
   ]
  },
  {
   "cell_type": "code",
   "execution_count": 27,
   "metadata": {
    "ExecuteTime": {
     "end_time": "2020-10-28T15:44:13.567719Z",
     "start_time": "2020-10-28T15:44:13.551733Z"
    }
   },
   "outputs": [
    {
     "name": "stdout",
     "output_type": "stream",
     "text": [
      "substr found at index: 2\n"
     ]
    }
   ],
   "source": [
    "search(substr)"
   ]
  },
  {
   "cell_type": "markdown",
   "metadata": {
    "ExecuteTime": {
     "end_time": "2020-10-27T20:46:43.603168Z",
     "start_time": "2020-10-27T20:46:43.585185Z"
    }
   },
   "source": [
    "#### Check if ‘was’ not present in str1\n"
   ]
  },
  {
   "cell_type": "code",
   "execution_count": 31,
   "metadata": {
    "ExecuteTime": {
     "end_time": "2020-10-28T16:19:08.897683Z",
     "start_time": "2020-10-28T16:19:08.880700Z"
    }
   },
   "outputs": [
    {
     "name": "stdout",
     "output_type": "stream",
     "text": [
      "nothing\n"
     ]
    }
   ],
   "source": [
    "if 'was' not in str1:\n",
    "    print(\"nothing\")"
   ]
  },
  {
   "cell_type": "markdown",
   "metadata": {},
   "source": [
    "####  Print str1 in uppercase\n"
   ]
  },
  {
   "cell_type": "code",
   "execution_count": 29,
   "metadata": {
    "ExecuteTime": {
     "end_time": "2020-10-28T16:17:01.796159Z",
     "start_time": "2020-10-28T16:17:01.783167Z"
    }
   },
   "outputs": [
    {
     "name": "stdout",
     "output_type": "stream",
     "text": [
      "THIS IS A SAMPLE DATAA TO TEST FOR THE TASK\n"
     ]
    }
   ],
   "source": [
    "upp= str1.upper()\n",
    "print(upp)"
   ]
  },
  {
   "cell_type": "markdown",
   "metadata": {},
   "source": [
    "#### Print str1 as title"
   ]
  },
  {
   "cell_type": "code",
   "execution_count": 33,
   "metadata": {
    "ExecuteTime": {
     "end_time": "2020-10-28T16:21:01.305489Z",
     "start_time": "2020-10-28T16:21:01.283510Z"
    }
   },
   "outputs": [
    {
     "name": "stdout",
     "output_type": "stream",
     "text": [
      "This Is A Sample Dataa To Test For The Task\n"
     ]
    }
   ],
   "source": [
    "str1 =\"this is a sample daTaa to test for the task\"\n",
    "print(str1.title())"
   ]
  },
  {
   "cell_type": "markdown",
   "metadata": {
    "ExecuteTime": {
     "end_time": "2020-10-27T20:47:43.639269Z",
     "start_time": "2020-10-27T20:47:43.631275Z"
    }
   },
   "source": [
    "####  Get a new string from str1 ‘DatTaa’ as ‘Data’\n"
   ]
  },
  {
   "cell_type": "code",
   "execution_count": 37,
   "metadata": {
    "ExecuteTime": {
     "end_time": "2020-10-28T16:36:45.975753Z",
     "start_time": "2020-10-28T16:36:45.958771Z"
    }
   },
   "outputs": [
    {
     "name": "stdout",
     "output_type": "stream",
     "text": [
      "this is a sample Data to test for the task\n"
     ]
    }
   ],
   "source": [
    "str1= (\"this is a sample daTaa to test for the task\")\n",
    "print(str1.replace(\"daTaa\", \"Data\"))"
   ]
  },
  {
   "cell_type": "markdown",
   "metadata": {
    "ExecuteTime": {
     "end_time": "2020-10-27T20:48:03.280936Z",
     "start_time": "2020-10-27T20:48:03.275943Z"
    }
   },
   "source": [
    "#### Print a new string with extra \"a\" removed form previous task"
   ]
  },
  {
   "cell_type": "code",
   "execution_count": 39,
   "metadata": {
    "ExecuteTime": {
     "end_time": "2020-10-28T16:39:06.932166Z",
     "start_time": "2020-10-28T16:39:06.911187Z"
    }
   },
   "outputs": [
    {
     "name": "stdout",
     "output_type": "stream",
     "text": [
      "this is a sample Dataa to test for the task\n"
     ]
    }
   ],
   "source": [
    "str1= (\"this is a sample Data to test for the task\")\n",
    "print(str1.replace(\"Data\", \"Dataa\"))"
   ]
  },
  {
   "cell_type": "markdown",
   "metadata": {},
   "source": [
    "#### Display ‘sample’ word from ‘ this is another sample string ‘"
   ]
  },
  {
   "cell_type": "code",
   "execution_count": 40,
   "metadata": {
    "ExecuteTime": {
     "end_time": "2020-10-28T16:40:59.083405Z",
     "start_time": "2020-10-28T16:40:59.065423Z"
    }
   },
   "outputs": [
    {
     "name": "stdout",
     "output_type": "stream",
     "text": [
      "sample\n"
     ]
    }
   ],
   "source": [
    "str1= \"this is another sample string\"\n",
    "print(str1.split()[3])"
   ]
  },
  {
   "cell_type": "markdown",
   "metadata": {
    "ExecuteTime": {
     "end_time": "2020-10-27T20:48:52.360887Z",
     "start_time": "2020-10-27T20:48:52.346902Z"
    }
   },
   "source": [
    "####  Display date, month and year form 21-oct-2020\n"
   ]
  },
  {
   "cell_type": "code",
   "execution_count": 27,
   "metadata": {
    "ExecuteTime": {
     "end_time": "2020-10-28T18:35:46.750375Z",
     "start_time": "2020-10-28T18:35:46.742382Z"
    }
   },
   "outputs": [
    {
     "name": "stdout",
     "output_type": "stream",
     "text": [
      "date :21 month:oct year:2020\n"
     ]
    }
   ],
   "source": [
    "from datetime import datetime\n",
    "\n",
    "date_str = '21-oct-2020'\n",
    "d,m,y = date_str.split('-')\n",
    "print(\"date :{0} month:{1} year:{2}\".format(d,m,y))\n"
   ]
  },
  {
   "cell_type": "markdown",
   "metadata": {},
   "source": [
    "#### arr = “10,20,30,40,50,60,70”, get “50,60”"
   ]
  },
  {
   "cell_type": "code",
   "execution_count": 7,
   "metadata": {
    "ExecuteTime": {
     "end_time": "2020-10-28T18:19:25.986025Z",
     "start_time": "2020-10-28T18:19:25.967353Z"
    }
   },
   "outputs": [
    {
     "name": "stdout",
     "output_type": "stream",
     "text": [
      "50,60\n"
     ]
    }
   ],
   "source": [
    "arr= \"10,20,30,40,50,60,70\"\n",
    "arr1=arr.split(\",\")\n",
    "arr1\n",
    "arr2= arr1[4:6]\n",
    "arr2\n",
    "arr=str(arr2)\n",
    "print(\",\".join(arr2))"
   ]
  },
  {
   "cell_type": "markdown",
   "metadata": {},
   "source": [
    "####  using negative index get \"50 ,60\""
   ]
  },
  {
   "cell_type": "code",
   "execution_count": 22,
   "metadata": {
    "ExecuteTime": {
     "end_time": "2020-10-28T18:29:18.721949Z",
     "start_time": "2020-10-28T18:29:18.708467Z"
    }
   },
   "outputs": [
    {
     "name": "stdout",
     "output_type": "stream",
     "text": [
      "50,60\n"
     ]
    }
   ],
   "source": [
    "arr = \"10,20,30,40,50,60,70\"\n",
    "print(arr[-8:-3])"
   ]
  },
  {
   "cell_type": "markdown",
   "metadata": {
    "ExecuteTime": {
     "end_time": "2020-10-28T18:29:41.020031Z",
     "start_time": "2020-10-28T18:29:41.011039Z"
    }
   },
   "source": [
    "####  From credit_str get ‘8888’"
   ]
  },
  {
   "cell_type": "code",
   "execution_count": 29,
   "metadata": {
    "ExecuteTime": {
     "end_time": "2020-10-28T18:44:12.165511Z",
     "start_time": "2020-10-28T18:44:12.147523Z"
    }
   },
   "outputs": [
    {
     "name": "stdout",
     "output_type": "stream",
     "text": [
      "8888\n"
     ]
    }
   ],
   "source": [
    "credit_str = \"xxxx----xxxx-8888------xxxx\"\n",
    "print(credit_str[13:17])"
   ]
  },
  {
   "cell_type": "code",
   "execution_count": 109,
   "metadata": {
    "ExecuteTime": {
     "end_time": "2020-10-29T08:10:11.587256Z",
     "start_time": "2020-10-29T08:10:11.572452Z"
    }
   },
   "outputs": [
    {
     "data": {
      "text/plain": [
       "['xxxx', '', '', '', 'xxxx', '8888', '', '', '', '', '', 'xxxx']"
      ]
     },
     "execution_count": 109,
     "metadata": {},
     "output_type": "execute_result"
    }
   ],
   "source": [
    "credit_str = \"xxxx----xxxx-8888------xxxx\"\n",
    "credit_str.split(\"-\")"
   ]
  },
  {
   "cell_type": "markdown",
   "metadata": {
    "ExecuteTime": {
     "end_time": "2020-10-28T18:44:42.412775Z",
     "start_time": "2020-10-28T18:44:42.399788Z"
    }
   },
   "source": [
    "#### . From credit_str get ‘0’ credit_str = \"1234-5678-9878-0434\"\n"
   ]
  },
  {
   "cell_type": "code",
   "execution_count": 110,
   "metadata": {
    "ExecuteTime": {
     "end_time": "2020-10-29T08:16:31.589087Z",
     "start_time": "2020-10-29T08:16:31.577098Z"
    }
   },
   "outputs": [
    {
     "name": "stdout",
     "output_type": "stream",
     "text": [
      "0\n"
     ]
    }
   ],
   "source": [
    "credit_str = \"1234-5678-9878-0434\"\n",
    "print(credit_str[15:16])"
   ]
  },
  {
   "cell_type": "markdown",
   "metadata": {},
   "source": [
    "####  convert a integer into a string and print it in console."
   ]
  },
  {
   "cell_type": "code",
   "execution_count": 39,
   "metadata": {
    "ExecuteTime": {
     "end_time": "2020-10-29T06:46:03.518141Z",
     "start_time": "2020-10-29T06:46:03.498160Z"
    }
   },
   "outputs": [
    {
     "name": "stdout",
     "output_type": "stream",
     "text": [
      "14\n",
      "your message was 14 characters long\n"
     ]
    }
   ],
   "source": [
    "breakfast = \"cereal yougurt\"\n",
    "print (len(breakfast))\n",
    "print (\"your message was\",  str(len(breakfast)) , \"characters long\")"
   ]
  },
  {
   "cell_type": "markdown",
   "metadata": {
    "ExecuteTime": {
     "end_time": "2020-10-29T06:37:51.545241Z",
     "start_time": "2020-10-29T06:37:51.528256Z"
    }
   },
   "source": [
    "#### take two strings as input and concatenate them and then print it\n"
   ]
  },
  {
   "cell_type": "code",
   "execution_count": 116,
   "metadata": {
    "ExecuteTime": {
     "end_time": "2020-10-29T08:22:01.049965Z",
     "start_time": "2020-10-29T08:21:53.954771Z"
    }
   },
   "outputs": [
    {
     "name": "stdout",
     "output_type": "stream",
     "text": [
      "enter your first name:Chhimi\n",
      "enter your last name:Lama\n",
      "ChhimiLama\n"
     ]
    }
   ],
   "source": [
    "first_name = str(input('enter your first name:'))\n",
    "last_name = str(input('enter your last name:'))\n",
    "\n",
    "sum = first_name + last_name\n",
    "print(sum)"
   ]
  },
  {
   "cell_type": "markdown",
   "metadata": {
    "ExecuteTime": {
     "end_time": "2020-10-29T07:01:57.756534Z",
     "start_time": "2020-10-29T07:01:57.748541Z"
    }
   },
   "source": [
    "####  convert the given string into list given_string = \" Apples is differnt from Apple Inc\""
   ]
  },
  {
   "cell_type": "code",
   "execution_count": 46,
   "metadata": {
    "ExecuteTime": {
     "end_time": "2020-10-29T07:13:51.544429Z",
     "start_time": "2020-10-29T07:13:51.537433Z"
    }
   },
   "outputs": [
    {
     "name": "stdout",
     "output_type": "stream",
     "text": [
      "['A', 'p', 'p', 'l', 'e', 's', ' ', 'i', 's', ' ', 'd', 'i', 'f', 'f', 'e', 'r', 'e', 'n', 't', ' ', 'f', 'r', 'o', 'm', ' ', 'A', 'p', 'p', 'l', 'e', ' ', 'I', 'n', 'c']\n"
     ]
    }
   ],
   "source": [
    "given_string = \"Apples is different from Apple Inc\"\n",
    "my_list = list(given_string)\n",
    "print(my_list)\n"
   ]
  },
  {
   "cell_type": "code",
   "execution_count": 123,
   "metadata": {
    "ExecuteTime": {
     "end_time": "2020-10-29T08:31:26.028917Z",
     "start_time": "2020-10-29T08:31:26.015927Z"
    }
   },
   "outputs": [
    {
     "name": "stdout",
     "output_type": "stream",
     "text": [
      "['Apples', 'is', 'different', 'from', 'Apple', 'Inc']\n"
     ]
    }
   ],
   "source": [
    "given_string = \"Apples is different from Apple Inc\"\n",
    "li=given_string.split()\n",
    "print(li)"
   ]
  },
  {
   "cell_type": "markdown",
   "metadata": {
    "ExecuteTime": {
     "end_time": "2020-10-29T07:14:28.503707Z",
     "start_time": "2020-10-29T07:14:28.494716Z"
    }
   },
   "source": [
    "####  print type of a and get the 1 element a = {(1,2):1,(2,3):2}\n"
   ]
  },
  {
   "cell_type": "code",
   "execution_count": 132,
   "metadata": {
    "ExecuteTime": {
     "end_time": "2020-10-29T08:38:47.883475Z",
     "start_time": "2020-10-29T08:38:47.867487Z"
    }
   },
   "outputs": [
    {
     "name": "stdout",
     "output_type": "stream",
     "text": [
      "1\n"
     ]
    }
   ],
   "source": [
    "a = {(1,2):1,(2,3):2}\n",
    "#type(a)\n",
    "print(a.get((1,2)))   "
   ]
  },
  {
   "cell_type": "code",
   "execution_count": 135,
   "metadata": {
    "ExecuteTime": {
     "end_time": "2020-10-29T08:43:59.666864Z",
     "start_time": "2020-10-29T08:43:59.650880Z"
    }
   },
   "outputs": [
    {
     "name": "stdout",
     "output_type": "stream",
     "text": [
      "2\n"
     ]
    }
   ],
   "source": [
    "a = {(1,2):1,(2,3):2}\n",
    "print(a[2,3])"
   ]
  },
  {
   "cell_type": "markdown",
   "metadata": {},
   "source": [
    "####  write a program to get list as 4,3,2 from the list below , a=1,2,3,4,5"
   ]
  },
  {
   "cell_type": "code",
   "execution_count": 145,
   "metadata": {
    "ExecuteTime": {
     "end_time": "2020-10-29T08:57:05.564405Z",
     "start_time": "2020-10-29T08:57:05.549422Z"
    }
   },
   "outputs": [
    {
     "name": "stdout",
     "output_type": "stream",
     "text": [
      "[5, 4, 3, 2, 1]\n",
      "[4, 3, 2]\n"
     ]
    }
   ],
   "source": [
    "a = [1,2,3,4,5]\n",
    "#type(a)\n",
    "#print(a[1:4])\n",
    "a.reverse()\n",
    "print(a)\n",
    "print(a[1:4])\n"
   ]
  },
  {
   "cell_type": "code",
   "execution_count": 19,
   "metadata": {
    "ExecuteTime": {
     "end_time": "2020-10-29T14:44:06.448901Z",
     "start_time": "2020-10-29T14:44:06.433918Z"
    }
   },
   "outputs": [
    {
     "name": "stdout",
     "output_type": "stream",
     "text": [
      "[4, 3, 2]\n"
     ]
    }
   ],
   "source": [
    "a = [1,2,3,4,5]\n",
    "print (a[-2:0:-1])"
   ]
  },
  {
   "cell_type": "markdown",
   "metadata": {
    "ExecuteTime": {
     "end_time": "2020-10-29T07:53:50.404744Z",
     "start_time": "2020-10-29T07:53:50.392756Z"
    }
   },
   "source": [
    "####  write a program to get odd number only using a slicing a=1,2,3,4,5,6,7,8,9\n"
   ]
  },
  {
   "cell_type": "code",
   "execution_count": 23,
   "metadata": {
    "ExecuteTime": {
     "end_time": "2020-10-29T14:46:40.391960Z",
     "start_time": "2020-10-29T14:46:40.372377Z"
    }
   },
   "outputs": [
    {
     "name": "stdout",
     "output_type": "stream",
     "text": [
      "(1, 3, 5, 7, 9)\n"
     ]
    }
   ],
   "source": [
    "a= (1,2,3,4,5,6,7,8,9)\n",
    "print(a[::2])\n",
    "\n",
    "\n"
   ]
  },
  {
   "cell_type": "markdown",
   "metadata": {},
   "source": [
    "####  create a tuple with (1,2) 5 times"
   ]
  },
  {
   "cell_type": "code",
   "execution_count": 26,
   "metadata": {
    "ExecuteTime": {
     "end_time": "2020-10-29T14:49:27.294799Z",
     "start_time": "2020-10-29T14:49:27.287811Z"
    }
   },
   "outputs": [
    {
     "name": "stdout",
     "output_type": "stream",
     "text": [
      "((1, 2), (1, 2), (1, 2), (1, 2), (1, 2))\n"
     ]
    }
   ],
   "source": [
    "a= ((1,2),) *5\n",
    "print(a)"
   ]
  },
  {
   "cell_type": "markdown",
   "metadata": {},
   "source": [
    "#### from given list create separate lists of strings and numbers.use, list comprehension, "
   ]
  },
  {
   "cell_type": "code",
   "execution_count": 41,
   "metadata": {
    "ExecuteTime": {
     "end_time": "2020-10-29T16:34:21.842041Z",
     "start_time": "2020-10-29T16:34:21.831052Z"
    }
   },
   "outputs": [
    {
     "name": "stdout",
     "output_type": "stream",
     "text": [
      "['Mobile', 'Laptop', 'Camera', 'Speakers', 'Television', 'Laptop Case', 'Camera Lens']\n",
      "[100, 310.28, 27.0, 1000]\n"
     ]
    }
   ],
   "source": [
    "gadgets = \"Mobile\", \"Laptop\", 100, \"Camera\", 310.28, \"Speakers\", 27.00, \"Television\", 1000, \"Laptop Case\", \"Camera Lens\"\n",
    "str_gadgets= [x for x in gadgets if isinstance(x, str)]\n",
    "print(str_gadgets)\n",
    "num_gadgets= [x for x in gadgets if isinstance(x,(int,float))]\n",
    "print(num_gadgets)\n",
    "\n"
   ]
  },
  {
   "cell_type": "markdown",
   "metadata": {},
   "source": [
    "####  An array is given from the array find the sum of diagonal using , list comprehension, a_2d=[1, 2, 3, 4, 5, 6, 7, 8, 9]"
   ]
  },
  {
   "cell_type": "code",
   "execution_count": null,
   "metadata": {},
   "outputs": [],
   "source": [
    "a_2d=[1, 2, 3, 4, 5, 6, 7, 8, 9]\n",
    "\n"
   ]
  },
  {
   "cell_type": "markdown",
   "metadata": {
    "ExecuteTime": {
     "end_time": "2020-10-29T10:20:26.827301Z",
     "start_time": "2020-10-29T10:20:26.815314Z"
    }
   },
   "source": [
    "#### . convert number into tuple of words using comprehension num=8976543201"
   ]
  },
  {
   "cell_type": "code",
   "execution_count": 43,
   "metadata": {
    "ExecuteTime": {
     "end_time": "2020-10-29T16:58:30.951544Z",
     "start_time": "2020-10-29T16:58:30.939555Z"
    }
   },
   "outputs": [
    {
     "name": "stdout",
     "output_type": "stream",
     "text": [
      "('8', '9', '7', '6', '5', '4', '3', '2', '0', '1')\n",
      "<class 'tuple'>\n",
      "['eight', 'nine', 'seven', 'six', 'five', 'four', 'three', 'two', 'zero', 'one']\n",
      "['eight', 'nine', 'seven', 'six', 'five', 'four', 'three', 'two', 'zero', 'one']\n"
     ]
    }
   ],
   "source": [
    "num=8976543201\n",
    "abc=str(8976543201)\n",
    "b=[]\n",
    "print(tuple(abc))\n",
    "print(type(tuple(abc)))\n",
    "lis=['zero', 'one', 'two', 'three', 'four', 'five', 'six', 'seven', 'eight', 'nine']\n",
    "for item in abc:\n",
    "    b.append(lis[int(item)])\n",
    "print(b)\n",
    "b=[(lis[int(item)]) for item in abc]\n",
    "print(b)\n",
    "\n",
    "\n"
   ]
  },
  {
   "cell_type": "markdown",
   "metadata": {},
   "source": [
    "####  print the numbers which are divisible by 2 but are not a multiple of 5 numbers = range(1, 10)"
   ]
  },
  {
   "cell_type": "code",
   "execution_count": 45,
   "metadata": {
    "ExecuteTime": {
     "end_time": "2020-10-29T17:29:18.937514Z",
     "start_time": "2020-10-29T17:29:18.925527Z"
    }
   },
   "outputs": [
    {
     "data": {
      "text/plain": [
       "[2, 4, 6, 8]"
      ]
     },
     "execution_count": 45,
     "metadata": {},
     "output_type": "execute_result"
    }
   ],
   "source": [
    "[x for x in range(1, 10) if x%2==0 and x%5 !=0]"
   ]
  },
  {
   "cell_type": "markdown",
   "metadata": {
    "ExecuteTime": {
     "end_time": "2020-10-29T10:21:36.180406Z",
     "start_time": "2020-10-29T10:21:36.174412Z"
    }
   },
   "source": [
    "####  print the sum of tuple : use comprehension init_tuple = [(0, 1), (1, 2), (2, 3)]\n"
   ]
  },
  {
   "cell_type": "code",
   "execution_count": 48,
   "metadata": {
    "ExecuteTime": {
     "end_time": "2020-10-29T18:59:25.358793Z",
     "start_time": "2020-10-29T18:59:25.348803Z"
    }
   },
   "outputs": [
    {
     "name": "stdout",
     "output_type": "stream",
     "text": [
      "(3, 6)\n"
     ]
    }
   ],
   "source": [
    "test_list = [(0, 1), (1, 2), (2, 3)]\n",
    "\n",
    "res = sum(i[0] for i in test_list), sum(i[1] for i in test_list) \n",
    "print(res)"
   ]
  },
  {
   "cell_type": "markdown",
   "metadata": {
    "ExecuteTime": {
     "end_time": "2020-10-29T10:22:02.022351Z",
     "start_time": "2020-10-29T10:22:02.007365Z"
    }
   },
   "source": [
    "####  delete the last coumn from the given 4*4 matrix\n"
   ]
  },
  {
   "cell_type": "code",
   "execution_count": 50,
   "metadata": {
    "ExecuteTime": {
     "end_time": "2020-10-29T19:13:44.069864Z",
     "start_time": "2020-10-29T19:13:44.050878Z"
    }
   },
   "outputs": [
    {
     "name": "stdout",
     "output_type": "stream",
     "text": [
      "[[1, 2, 3, 4], [4, 5, 6, 7], [8, 9, 10, 11]]\n"
     ]
    }
   ],
   "source": [
    "arr = [[1, 2, 3, 4],\n",
    " [4, 5, 6, 7],\n",
    " [8, 9, 10, 11],\n",
    " [12, 13, 14, 15]]\n",
    "\n",
    "b=arr.pop(3)\n",
    "print(arr)"
   ]
  },
  {
   "cell_type": "markdown",
   "metadata": {},
   "source": [
    "####  get the list of value of dict in sorted way\n",
    "- dict = {'c': 97, 'a': 96, 'b': 98}"
   ]
  },
  {
   "cell_type": "code",
   "execution_count": 53,
   "metadata": {
    "ExecuteTime": {
     "end_time": "2020-10-29T19:15:18.764903Z",
     "start_time": "2020-10-29T19:15:18.744920Z"
    }
   },
   "outputs": [
    {
     "name": "stdout",
     "output_type": "stream",
     "text": [
      "[96, 97, 98]\n"
     ]
    }
   ],
   "source": [
    "dict = {'c': 97, 'a': 96, 'b': 98}\n",
    "\n",
    "print(sorted(dict.values()))"
   ]
  },
  {
   "cell_type": "markdown",
   "metadata": {},
   "source": [
    "#### Creating a Dictionary with Integer Keys and print it\n"
   ]
  },
  {
   "cell_type": "code",
   "execution_count": 151,
   "metadata": {
    "ExecuteTime": {
     "end_time": "2020-10-29T10:42:08.621371Z",
     "start_time": "2020-10-29T10:42:08.608383Z"
    }
   },
   "outputs": [
    {
     "name": "stdout",
     "output_type": "stream",
     "text": [
      "{5: 'coffee', 4: 'tea', 6: 'milk'}\n",
      "<class 'dict'>\n"
     ]
    }
   ],
   "source": [
    "a= {5:'coffee', 4:'tea', 6:'milk'}\n",
    "print(a)\n",
    "print(type(a))"
   ]
  },
  {
   "cell_type": "markdown",
   "metadata": {},
   "source": [
    "#### Creating a Dictionary with Mixed keys\n"
   ]
  },
  {
   "cell_type": "code",
   "execution_count": 153,
   "metadata": {
    "ExecuteTime": {
     "end_time": "2020-10-29T10:48:01.997482Z",
     "start_time": "2020-10-29T10:48:01.985491Z"
    }
   },
   "outputs": [
    {
     "name": "stdout",
     "output_type": "stream",
     "text": [
      "{5: 'john', 6: [1, 4, 5], 'mark': 3}\n"
     ]
    }
   ],
   "source": [
    "a ={5:'john', 6: [1,4,5], 'mark': 3}\n",
    "\n",
    "print(a)"
   ]
  },
  {
   "cell_type": "markdown",
   "metadata": {},
   "source": [
    "#### Creating an empty Dictionary\n"
   ]
  },
  {
   "cell_type": "code",
   "execution_count": 1,
   "metadata": {
    "ExecuteTime": {
     "end_time": "2020-10-29T11:30:26.231017Z",
     "start_time": "2020-10-29T11:30:26.224028Z"
    }
   },
   "outputs": [],
   "source": [
    "dict_1= {}\n",
    "type(dict_1)\n",
    "\n",
    "dict_2= dict()\n",
    "\n"
   ]
  },
  {
   "cell_type": "markdown",
   "metadata": {},
   "source": [
    "#### Creating a Dictionary with dict() method\n"
   ]
  },
  {
   "cell_type": "code",
   "execution_count": 2,
   "metadata": {
    "ExecuteTime": {
     "end_time": "2020-10-29T11:31:57.562659Z",
     "start_time": "2020-10-29T11:31:57.547159Z"
    }
   },
   "outputs": [
    {
     "name": "stdout",
     "output_type": "stream",
     "text": [
      "{5: 'mac', 8: 'dell'}\n"
     ]
    }
   ],
   "source": [
    "dict_1 = dict({5:'mac', 8:'dell'})\n",
    "print(dict_1)"
   ]
  },
  {
   "cell_type": "code",
   "execution_count": 14,
   "metadata": {
    "ExecuteTime": {
     "end_time": "2020-10-29T12:05:49.052154Z",
     "start_time": "2020-10-29T12:05:49.028177Z"
    }
   },
   "outputs": [
    {
     "data": {
      "text/plain": [
       "{1: 2, 3: 4}"
      ]
     },
     "execution_count": 14,
     "metadata": {},
     "output_type": "execute_result"
    }
   ],
   "source": [
    "dict(((1,2),(3,4))) #tuple"
   ]
  },
  {
   "cell_type": "code",
   "execution_count": 20,
   "metadata": {
    "ExecuteTime": {
     "end_time": "2020-10-29T12:11:01.318270Z",
     "start_time": "2020-10-29T12:11:01.301286Z"
    }
   },
   "outputs": [
    {
     "data": {
      "text/plain": [
       "{1: 2, 3: 4}"
      ]
     },
     "execution_count": 20,
     "metadata": {},
     "output_type": "execute_result"
    }
   ],
   "source": [
    "dict([[1,2],[3,4]]) #list"
   ]
  },
  {
   "cell_type": "code",
   "execution_count": 1,
   "metadata": {
    "ExecuteTime": {
     "end_time": "2020-10-29T19:17:50.474996Z",
     "start_time": "2020-10-29T19:17:50.460008Z"
    }
   },
   "outputs": [
    {
     "name": "stdout",
     "output_type": "stream",
     "text": [
      "{'hello': '6'}\n"
     ]
    }
   ],
   "source": [
    "my_dic=dict(hello='6')\n",
    "print(my_dic)"
   ]
  },
  {
   "cell_type": "code",
   "execution_count": null,
   "metadata": {},
   "outputs": [],
   "source": []
  },
  {
   "cell_type": "markdown",
   "metadata": {},
   "source": [
    "#### Creating a Dictionary with each item as a Pair"
   ]
  },
  {
   "cell_type": "code",
   "execution_count": 4,
   "metadata": {
    "ExecuteTime": {
     "end_time": "2020-10-29T12:33:05.876700Z",
     "start_time": "2020-10-29T12:33:05.861716Z"
    }
   },
   "outputs": [
    {
     "data": {
      "text/plain": [
       "{(1, 2): ('a', 'b'), (3, 4): ('c', 'd')}"
      ]
     },
     "execution_count": 4,
     "metadata": {},
     "output_type": "execute_result"
    }
   ],
   "source": [
    "#val= [8,9,4]\n",
    "dict({(1,2): (\"a\",\"b\"), (3,4):(\"c\", \"d\")})\n"
   ]
  },
  {
   "cell_type": "markdown",
   "metadata": {},
   "source": [
    "#### Creating a Nested Dictionary as shown in the below image\n"
   ]
  },
  {
   "cell_type": "code",
   "execution_count": null,
   "metadata": {},
   "outputs": [],
   "source": [
    "{1: 'python', 2: 'For', 3: {'A': 'Welcome', 'B': 'To', 'C': 'Python',\n",
    "'D': 'class'}}\n",
    "\n"
   ]
  },
  {
   "cell_type": "code",
   "execution_count": 14,
   "metadata": {
    "ExecuteTime": {
     "end_time": "2020-10-29T12:42:22.735046Z",
     "start_time": "2020-10-29T12:42:22.726053Z"
    }
   },
   "outputs": [
    {
     "name": "stdout",
     "output_type": "stream",
     "text": [
      "{1: 'python', 2: 'For', 3: {'A': 'Welcome', 'B': 'To', 'C': 'Python', 'D': 'class'}}\n"
     ]
    }
   ],
   "source": [
    "x= {1: 'python', 2: 'For', 3: {'A': 'Welcome', 'B': 'To', 'C': 'Python','D': 'class'}}\n",
    "print(x)\n",
    "\n"
   ]
  },
  {
   "cell_type": "markdown",
   "metadata": {},
   "source": [
    "####  Add a Nested Key value to nested dictionary Dictionary"
   ]
  },
  {
   "cell_type": "code",
   "execution_count": 15,
   "metadata": {
    "ExecuteTime": {
     "end_time": "2020-10-29T12:42:25.816397Z",
     "start_time": "2020-10-29T12:42:25.811403Z"
    }
   },
   "outputs": [
    {
     "name": "stdout",
     "output_type": "stream",
     "text": [
      "{1: 'python', 2: 'For', 3: {'A': 'Welcome', 'B': 'To', 'C': 'Python', 'D': 'class', 'E': {1, 2}}}\n"
     ]
    }
   ],
   "source": [
    "x[3]['E']={1,2}\n",
    "print(x)"
   ]
  },
  {
   "cell_type": "markdown",
   "metadata": {
    "ExecuteTime": {
     "end_time": "2020-10-29T12:37:29.426397Z",
     "start_time": "2020-10-29T12:37:29.407417Z"
    }
   },
   "source": [
    "#### create a dictionary with id:num and value: square for range (0,6) using dict comprehension\n"
   ]
  },
  {
   "cell_type": "code",
   "execution_count": 3,
   "metadata": {
    "ExecuteTime": {
     "end_time": "2020-10-30T10:35:34.886908Z",
     "start_time": "2020-10-30T10:35:34.862932Z"
    }
   },
   "outputs": [
    {
     "data": {
      "text/plain": [
       "{0: 0, 1: 1, 2: 4, 3: 9, 4: 16, 5: 25}"
      ]
     },
     "execution_count": 3,
     "metadata": {},
     "output_type": "execute_result"
    }
   ],
   "source": [
    "{num:num**2 for num in range(0,6)}"
   ]
  },
  {
   "cell_type": "markdown",
   "metadata": {
    "ExecuteTime": {
     "end_time": "2020-10-29T12:38:10.258320Z",
     "start_time": "2020-10-29T12:38:10.250329Z"
    }
   },
   "source": [
    "####  create a dictionary using dict comprehension to get the odd square only\n"
   ]
  },
  {
   "cell_type": "code",
   "execution_count": 5,
   "metadata": {
    "ExecuteTime": {
     "end_time": "2020-10-30T10:42:38.463526Z",
     "start_time": "2020-10-30T10:42:38.447541Z"
    }
   },
   "outputs": [
    {
     "name": "stdout",
     "output_type": "stream",
     "text": [
      "{1: 1, 3: 9, 5: 25, 7: 49, 9: 81}\n"
     ]
    }
   ],
   "source": [
    "odd_squares= {x:x*x for x in range(11) if x%2 ==1}\n",
    "print(odd_squares)"
   ]
  },
  {
   "cell_type": "markdown",
   "metadata": {},
   "source": [
    "####  from a given dict {1: 'a', 2: 'b', 3: 'c'} change the key into item and viceversa"
   ]
  },
  {
   "cell_type": "code",
   "execution_count": 6,
   "metadata": {
    "ExecuteTime": {
     "end_time": "2020-10-30T10:47:25.989554Z",
     "start_time": "2020-10-30T10:47:25.967569Z"
    }
   },
   "outputs": [
    {
     "name": "stdout",
     "output_type": "stream",
     "text": [
      "{'a': 1, 'b': 2, 'c': 3}\n",
      "{1: 'a', 2: 'b', 3: 'c'}\n",
      "{'a': 1, 'b': 2, 'c': 3}\n"
     ]
    }
   ],
   "source": [
    "dict = {'a': 1,'b': 2, 'c':3}\n",
    "print(dict)\n",
    "\n",
    "dict={value:key for key, value in dict.items()}\n",
    "print(dict)\n",
    "dict= {key:value for value, key in dict.items()}\n",
    "print(dict)"
   ]
  },
  {
   "cell_type": "markdown",
   "metadata": {
    "ExecuteTime": {
     "end_time": "2020-10-29T12:39:07.453181Z",
     "start_time": "2020-10-29T12:39:07.444188Z"
    }
   },
   "source": [
    "####  get a hello from the given dict\n"
   ]
  },
  {
   "cell_type": "code",
   "execution_count": 7,
   "metadata": {
    "ExecuteTime": {
     "end_time": "2020-10-30T10:48:47.721822Z",
     "start_time": "2020-10-30T10:48:47.713830Z"
    }
   },
   "outputs": [],
   "source": [
    "d = {'k1':[{'nest_key':['this is deep','hello']}]}"
   ]
  },
  {
   "cell_type": "code",
   "execution_count": null,
   "metadata": {},
   "outputs": [],
   "source": []
  },
  {
   "cell_type": "markdown",
   "metadata": {},
   "source": [
    "####  Divisibility Check of user given 2 input of numbers\n"
   ]
  },
  {
   "cell_type": "code",
   "execution_count": 9,
   "metadata": {
    "ExecuteTime": {
     "end_time": "2020-10-30T10:52:29.716352Z",
     "start_time": "2020-10-30T10:52:25.897042Z"
    }
   },
   "outputs": [
    {
     "name": "stdout",
     "output_type": "stream",
     "text": [
      "enter number of number_1: 0\n",
      "enter number of number_2 :0\n",
      "not divisible\n"
     ]
    }
   ],
   "source": [
    "n1= int(input(\"enter number of number_1: \"))\n",
    "n2= int(input(\"enter number of number_2 :\"))\n",
    "try: \n",
    "    div= n1/n2\n",
    "    print(div)\n",
    "    \n",
    "except ZeroDivisionError:\n",
    "    print(\"not divisible\")"
   ]
  },
  {
   "cell_type": "markdown",
   "metadata": {},
   "source": [
    "#### Check if number is even or odd"
   ]
  },
  {
   "cell_type": "code",
   "execution_count": 11,
   "metadata": {
    "ExecuteTime": {
     "end_time": "2020-10-30T10:54:28.358845Z",
     "start_time": "2020-10-30T10:54:24.690587Z"
    }
   },
   "outputs": [
    {
     "name": "stdout",
     "output_type": "stream",
     "text": [
      "enter a number: 5\n",
      "it is odd\n"
     ]
    }
   ],
   "source": [
    "num = float(input (\"enter a number: \"))\n",
    "if num % 2 == 0:\n",
    "    print(\"it is even\")\n",
    "else:\n",
    "    print(\"it is odd\")\n",
    "    "
   ]
  },
  {
   "cell_type": "code",
   "execution_count": 22,
   "metadata": {
    "ExecuteTime": {
     "end_time": "2020-10-30T14:35:29.124920Z",
     "start_time": "2020-10-30T14:35:27.311119Z"
    }
   },
   "outputs": [
    {
     "name": "stdout",
     "output_type": "stream",
     "text": [
      "enter a number: 8\n",
      "even\n"
     ]
    }
   ],
   "source": [
    "num = float(input (\"enter a number: \"))\n",
    "print(\"even\" if num %2==0  else \"num is odd\")"
   ]
  },
  {
   "cell_type": "markdown",
   "metadata": {},
   "source": [
    "####  Check whether Entered character is Vowel or not\n"
   ]
  },
  {
   "cell_type": "code",
   "execution_count": 12,
   "metadata": {
    "ExecuteTime": {
     "end_time": "2020-10-30T10:58:31.255727Z",
     "start_time": "2020-10-30T10:58:29.496913Z"
    }
   },
   "outputs": [
    {
     "name": "stdout",
     "output_type": "stream",
     "text": [
      "Enter a character: 7\n",
      "it is not vowel\n"
     ]
    }
   ],
   "source": [
    "char= input('Enter a character: ')\n",
    "new_char = char.lower()\n",
    "vowel= ['a','e','i','o','u']\n",
    "\n",
    "if new_char in vowel:\n",
    "    print(\"it is vowel\")\n",
    "else: \n",
    "    print(\"it is not vowel\")"
   ]
  },
  {
   "cell_type": "code",
   "execution_count": 21,
   "metadata": {
    "ExecuteTime": {
     "end_time": "2020-10-30T14:35:04.705858Z",
     "start_time": "2020-10-30T14:35:02.681368Z"
    }
   },
   "outputs": [
    {
     "name": "stdout",
     "output_type": "stream",
     "text": [
      "Enter a character: g\n",
      "not a vowel\n"
     ]
    }
   ],
   "source": [
    "char= input('Enter a character: ')       # comprehension\n",
    "print(\"is vowel\" if char in \"aeiou\" else \"not a vowel\")"
   ]
  },
  {
   "cell_type": "markdown",
   "metadata": {},
   "source": [
    "####  calculate Sum of n positive Integer, example: Sum of n positive Integer till 2 is 3\n"
   ]
  },
  {
   "cell_type": "code",
   "execution_count": 19,
   "metadata": {
    "ExecuteTime": {
     "end_time": "2020-10-30T11:31:34.046496Z",
     "start_time": "2020-10-30T11:31:28.663513Z"
    }
   },
   "outputs": [
    {
     "name": "stdout",
     "output_type": "stream",
     "text": [
      "enter a positive integer:2\n",
      "3\n"
     ]
    }
   ],
   "source": [
    "int1 = int(input(\"enter a positive integer:\"))\n",
    "sumn=0\n",
    "for i in range(int1+1):\n",
    "    sumn += 1\n",
    "print(sumn)\n"
   ]
  },
  {
   "cell_type": "code",
   "execution_count": 24,
   "metadata": {
    "ExecuteTime": {
     "end_time": "2020-10-30T14:37:46.282263Z",
     "start_time": "2020-10-30T14:37:41.692962Z"
    }
   },
   "outputs": [
    {
     "name": "stdout",
     "output_type": "stream",
     "text": [
      "enter a positive integer:6\n"
     ]
    },
    {
     "data": {
      "text/plain": [
       "21"
      ]
     },
     "execution_count": 24,
     "metadata": {},
     "output_type": "execute_result"
    }
   ],
   "source": [
    "int1 = int(input(\"enter a positive integer:\")) #comprehension\n",
    "sum([x for x in range (int1+1)])"
   ]
  },
  {
   "cell_type": "markdown",
   "metadata": {},
   "source": [
    "#### calculate the Digit Sum of a number (eg: 123 print 1+2+3=6)"
   ]
  },
  {
   "cell_type": "code",
   "execution_count": 24,
   "metadata": {
    "ExecuteTime": {
     "end_time": "2020-10-30T14:06:44.452527Z",
     "start_time": "2020-10-30T14:06:41.898652Z"
    }
   },
   "outputs": [
    {
     "name": "stdout",
     "output_type": "stream",
     "text": [
      "Enter a number:234\n",
      "9\n"
     ]
    }
   ],
   "source": [
    "\n",
    "number1= str(input(\"Enter a number:\"))\n",
    "sum=0\n",
    "for i in number1:\n",
    "    \n",
    "    b= int(i)\n",
    "    sum += b\n",
    "print(sum)\n",
    "    \n",
    "\n"
   ]
  },
  {
   "cell_type": "code",
   "execution_count": 1,
   "metadata": {
    "ExecuteTime": {
     "end_time": "2020-10-30T14:11:56.985455Z",
     "start_time": "2020-10-30T14:11:54.490392Z"
    }
   },
   "outputs": [
    {
     "name": "stdout",
     "output_type": "stream",
     "text": [
      "Enter a number:234\n"
     ]
    },
    {
     "data": {
      "text/plain": [
       "9"
      ]
     },
     "execution_count": 1,
     "metadata": {},
     "output_type": "execute_result"
    }
   ],
   "source": [
    "number1=str(input(\"Enter a number:\")) #comprehension\n",
    "sum([int(num) for num in number1])"
   ]
  },
  {
   "cell_type": "markdown",
   "metadata": {},
   "source": [
    "#### Count Numbers, Alphabets, and Special Character from user input string"
   ]
  },
  {
   "cell_type": "code",
   "execution_count": 4,
   "metadata": {
    "ExecuteTime": {
     "end_time": "2020-10-30T14:19:37.557996Z",
     "start_time": "2020-10-30T14:19:35.524134Z"
    }
   },
   "outputs": [
    {
     "name": "stdout",
     "output_type": "stream",
     "text": [
      "Enter characters:890\n"
     ]
    },
    {
     "ename": "TypeError",
     "evalue": "'str' object is not callable",
     "output_type": "error",
     "traceback": [
      "\u001b[1;31m---------------------------------------------------------------------------\u001b[0m",
      "\u001b[1;31mTypeError\u001b[0m                                 Traceback (most recent call last)",
      "\u001b[1;32m<ipython-input-4-537b10d6cfb9>\u001b[0m in \u001b[0;36m<module>\u001b[1;34m\u001b[0m\n\u001b[0;32m      2\u001b[0m \u001b[0malphabets\u001b[0m\u001b[1;33m=\u001b[0m \u001b[0mnumbers\u001b[0m\u001b[1;33m=\u001b[0m \u001b[0mspec_char\u001b[0m\u001b[1;33m=\u001b[0m \u001b[1;36m0\u001b[0m\u001b[1;33m\u001b[0m\u001b[1;33m\u001b[0m\u001b[0m\n\u001b[0;32m      3\u001b[0m \u001b[1;32mfor\u001b[0m \u001b[0mi\u001b[0m \u001b[1;32min\u001b[0m \u001b[0mrange\u001b[0m \u001b[1;33m(\u001b[0m\u001b[0mlen\u001b[0m\u001b[1;33m(\u001b[0m\u001b[0mstring11\u001b[0m\u001b[1;33m)\u001b[0m\u001b[1;33m)\u001b[0m\u001b[1;33m:\u001b[0m\u001b[1;33m\u001b[0m\u001b[1;33m\u001b[0m\u001b[0m\n\u001b[1;32m----> 4\u001b[1;33m     \u001b[1;32mif\u001b[0m \u001b[0mstring11\u001b[0m\u001b[1;33m(\u001b[0m\u001b[0mi\u001b[0m\u001b[1;33m)\u001b[0m\u001b[1;33m.\u001b[0m\u001b[0misdigit\u001b[0m\u001b[1;33m(\u001b[0m\u001b[1;33m)\u001b[0m\u001b[1;33m:\u001b[0m\u001b[1;33m\u001b[0m\u001b[1;33m\u001b[0m\u001b[0m\n\u001b[0m\u001b[0;32m      5\u001b[0m         \u001b[0mnumber\u001b[0m \u001b[1;33m+=\u001b[0m\u001b[1;36m1\u001b[0m\u001b[1;33m\u001b[0m\u001b[1;33m\u001b[0m\u001b[0m\n\u001b[0;32m      6\u001b[0m     \u001b[1;32melif\u001b[0m \u001b[0mstring11\u001b[0m\u001b[1;33m(\u001b[0m\u001b[0mi\u001b[0m\u001b[1;33m)\u001b[0m\u001b[1;33m.\u001b[0m\u001b[0misalpha\u001b[0m\u001b[1;33m(\u001b[0m\u001b[1;33m)\u001b[0m\u001b[1;33m:\u001b[0m\u001b[1;33m\u001b[0m\u001b[1;33m\u001b[0m\u001b[0m\n",
      "\u001b[1;31mTypeError\u001b[0m: 'str' object is not callable"
     ]
    }
   ],
   "source": [
    "string11 = str(input(\"Enter characters:\"))\n",
    "alphabets= numbers= spec_char= 0\n",
    "for i in range (len(string11)):\n",
    "    if string11(i).isdigit():\n",
    "        number +=1\n",
    "    elif string11(i).isalpha():\n",
    "        alphabets += 1\n",
    "    else: \n",
    "        spec_char += 1\n",
    "\n",
    "print(\"alphabets = \", alphabets, \"numbers= \", numbers, \"special characters =\", spec_char)"
   ]
  },
  {
   "cell_type": "markdown",
   "metadata": {},
   "source": [
    "####  constuct the given pattern"
   ]
  },
  {
   "cell_type": "code",
   "execution_count": null,
   "metadata": {},
   "outputs": [],
   "source": [
    "*\n",
    "* *\n",
    "* * *\n",
    "* * * *\n",
    "* * * * *\n",
    "* * * *\n",
    "* * *\n",
    "* *\n",
    "* \n",
    "\n"
   ]
  },
  {
   "cell_type": "code",
   "execution_count": 8,
   "metadata": {
    "ExecuteTime": {
     "end_time": "2020-10-30T14:23:46.885315Z",
     "start_time": "2020-10-30T14:23:46.866336Z"
    }
   },
   "outputs": [
    {
     "name": "stdout",
     "output_type": "stream",
     "text": [
      "*\n",
      "**\n",
      "***\n",
      "****\n",
      "*****\n",
      "****\n",
      "***\n",
      "**\n",
      "*\n"
     ]
    }
   ],
   "source": [
    "n = '*'\n",
    "for i in range(1,6):\n",
    "    new_n = n*i\n",
    "    print(new_n)\n",
    "for i in range(4,0,-1):\n",
    "    another_n= n*i\n",
    "    print(another_n)"
   ]
  },
  {
   "cell_type": "markdown",
   "metadata": {},
   "source": [
    "#### Count number of characters in a string \n",
    "- eg : {'h': 1, 'e': 1, 'l': 2, 'o': 1}\n"
   ]
  },
  {
   "cell_type": "code",
   "execution_count": 9,
   "metadata": {
    "ExecuteTime": {
     "end_time": "2020-10-30T14:27:48.770205Z",
     "start_time": "2020-10-30T14:27:48.748224Z"
    }
   },
   "outputs": [
    {
     "name": "stdout",
     "output_type": "stream",
     "text": [
      "h\n",
      "e\n",
      "l\n",
      "o\n",
      "count is : 4\n"
     ]
    }
   ],
   "source": [
    "abc = {'h': 1, 'e': 1, 'l':2, 'o':1}\n",
    "\n",
    "count= 0\n",
    "for i in abc:\n",
    "    count +=1\n",
    "    print(i)\n",
    "print(\"count is :\", count)"
   ]
  },
  {
   "cell_type": "markdown",
   "metadata": {},
   "source": [
    "####  write a program to compute 5/0 using try except"
   ]
  },
  {
   "cell_type": "code",
   "execution_count": null,
   "metadata": {},
   "outputs": [],
   "source": []
  },
  {
   "cell_type": "markdown",
   "metadata": {},
   "source": [
    "####  Handle the exception thrown by the code below by using try and except blocks.\n"
   ]
  },
  {
   "cell_type": "code",
   "execution_count": 28,
   "metadata": {
    "ExecuteTime": {
     "end_time": "2020-10-30T14:45:00.756064Z",
     "start_time": "2020-10-30T14:45:00.746074Z"
    }
   },
   "outputs": [
    {
     "name": "stdout",
     "output_type": "stream",
     "text": [
      "strings not supported with power operand.\n"
     ]
    }
   ],
   "source": [
    "li=[\"hello\",\"class\"]\n",
    "\n",
    "try:\n",
    "    for i in li:\n",
    "        print(i**2)\n",
    "except TypeError:\n",
    "    \n",
    "    print(\"strings not supported with power operand.\")\n",
    "    "
   ]
  },
  {
   "cell_type": "markdown",
   "metadata": {},
   "source": [
    "#### Write a function that asks for an integer and prints the square of it. Use a while loop with a try,except, else block to account for incorrect inputs.\n"
   ]
  },
  {
   "cell_type": "code",
   "execution_count": 38,
   "metadata": {
    "ExecuteTime": {
     "end_time": "2020-10-30T14:54:45.818265Z",
     "start_time": "2020-10-30T14:54:43.867959Z"
    }
   },
   "outputs": [
    {
     "name": "stdout",
     "output_type": "stream",
     "text": [
      "Enter a integer:0\n",
      "square of 0 is 0\n"
     ]
    }
   ],
   "source": [
    "# example: Input an integer: null\n",
    "#An error occurred! Please try again!\n",
    "#Input an integer: 2\n",
    "#Thank you, you number squared is: 4\n",
    "\n",
    "while True:\n",
    "    try: \n",
    "        x= input ('Enter a integer:')\n",
    "        x= int(x)\n",
    "    \n",
    "        y= x*x\n",
    "        print(f'square of {x} is {y}')\n",
    "        break\n",
    "    except ValueError:\n",
    "        print('nothing')"
   ]
  },
  {
   "cell_type": "markdown",
   "metadata": {
    "ExecuteTime": {
     "end_time": "2020-10-30T14:54:58.276506Z",
     "start_time": "2020-10-30T14:54:58.266514Z"
    }
   },
   "source": [
    "####  Accept the String and print the words composed of digits only"
   ]
  },
  {
   "cell_type": "code",
   "execution_count": 40,
   "metadata": {
    "ExecuteTime": {
     "end_time": "2020-10-30T14:56:29.378977Z",
     "start_time": "2020-10-30T14:56:29.372984Z"
    }
   },
   "outputs": [
    {
     "name": "stdout",
     "output_type": "stream",
     "text": [
      "4\n",
      "6\n"
     ]
    }
   ],
   "source": [
    "def ac_st(string):\n",
    "    for i in string:\n",
    "        if i.isdigit():\n",
    "            print(i)\n",
    "ac_st('ACB46GJ')"
   ]
  },
  {
   "cell_type": "markdown",
   "metadata": {},
   "source": [
    "####  find the parity outlier from the given sequence use list comprehension"
   ]
  },
  {
   "cell_type": "code",
   "execution_count": 2,
   "metadata": {
    "ExecuteTime": {
     "end_time": "2020-10-31T08:54:54.598419Z",
     "start_time": "2020-10-31T08:54:54.576433Z"
    }
   },
   "outputs": [
    {
     "name": "stdout",
     "output_type": "stream",
     "text": [
      "[2]\n"
     ]
    }
   ],
   "source": [
    "#Parity outlier: \n",
    "seq=1,2,3,5,7\n",
    "\n",
    "ev = [i for i in seq if i %2 == 0]\n",
    "od = [i for i in seq if i%2 !=0]\n",
    "\n",
    "if len(ev) > len(od):\n",
    "    print(od)\n",
    "else:\n",
    "    print(ev)\n",
    "    "
   ]
  },
  {
   "cell_type": "code",
   "execution_count": 5,
   "metadata": {
    "ExecuteTime": {
     "end_time": "2020-10-31T09:01:40.497590Z",
     "start_time": "2020-10-31T09:01:40.471615Z"
    }
   },
   "outputs": [
    {
     "data": {
      "text/plain": [
       "[2]"
      ]
     },
     "execution_count": 5,
     "metadata": {},
     "output_type": "execute_result"
    }
   ],
   "source": [
    "# list comprehensiion\n",
    "\n",
    "seq= 1,2,3,5,7\n",
    "\n",
    "[i for i in seq if i%2==0]"
   ]
  },
  {
   "cell_type": "markdown",
   "metadata": {
    "ExecuteTime": {
     "end_time": "2020-10-31T09:00:12.070778Z",
     "start_time": "2020-10-31T09:00:12.066781Z"
    }
   },
   "source": [
    "####  get the complement\n",
    "\n"
   ]
  },
  {
   "cell_type": "code",
   "execution_count": 4,
   "metadata": {
    "ExecuteTime": {
     "end_time": "2020-10-31T09:00:28.842866Z",
     "start_time": "2020-10-31T09:00:28.826879Z"
    }
   },
   "outputs": [
    {
     "ename": "SyntaxError",
     "evalue": "invalid syntax (<ipython-input-4-5cd5353d426f>, line 1)",
     "output_type": "error",
     "traceback": [
      "\u001b[1;36m  File \u001b[1;32m\"<ipython-input-4-5cd5353d426f>\"\u001b[1;36m, line \u001b[1;32m1\u001b[0m\n\u001b[1;33m    A ->> T\u001b[0m\n\u001b[1;37m      ^\u001b[0m\n\u001b[1;31mSyntaxError\u001b[0m\u001b[1;31m:\u001b[0m invalid syntax\n"
     ]
    }
   ],
   "source": [
    "A ->> T\n",
    "T -->> A\n",
    "C --> G\n",
    "G --> C\n",
    "for the given DNA dna=\"ATTGC\""
   ]
  },
  {
   "cell_type": "markdown",
   "metadata": {
    "ExecuteTime": {
     "end_time": "2020-10-31T09:03:29.221004Z",
     "start_time": "2020-10-31T09:03:29.212012Z"
    }
   },
   "source": [
    "####  Write a program that inputs a number from the user and displays the factorial of that number using while loop.\n"
   ]
  },
  {
   "cell_type": "code",
   "execution_count": null,
   "metadata": {
    "ExecuteTime": {
     "start_time": "2020-10-31T09:31:53.078Z"
    }
   },
   "outputs": [
    {
     "name": "stdout",
     "output_type": "stream",
     "text": [
      "Enter number:5\n"
     ]
    }
   ],
   "source": [
    "# factorial is the product of all positive integers less than or equal to a given positive integer. \n",
    "\n",
    "nume= int (input('Enter number:'))\n",
    "fac=1\n",
    "while nume:\n",
    "    fac *= nume\n",
    "    nume -= 1\n",
    "    \n",
    "print(fac)\n"
   ]
  },
  {
   "cell_type": "markdown",
   "metadata": {},
   "source": [
    "####  Ask the user for a number,to pick the color from the list, print the color.\n"
   ]
  },
  {
   "cell_type": "code",
   "execution_count": 1,
   "metadata": {
    "ExecuteTime": {
     "end_time": "2020-10-31T09:45:50.023889Z",
     "start_time": "2020-10-31T09:39:23.137526Z"
    }
   },
   "outputs": [
    {
     "name": "stdout",
     "output_type": "stream",
     "text": [
      "Enter integer from 1 to 4 for picking color: 4\n",
      "Red\n"
     ]
    }
   ],
   "source": [
    "color= ['Blue', 'Green', 'Orange', 'Red']\n",
    "\n",
    "numm= int(input('Enter integer from 1 to 4 for picking color: '))\n",
    "if numm== 1:\n",
    "    print(color[0])\n",
    "elif numm== 2:\n",
    "    print(color[2])\n",
    "elif numm== 3:\n",
    "    print(color[2])\n",
    "elif numm == 4:\n",
    "    print(color[3])\n",
    "else:\n",
    "    print('no integer assign for color you pick')\n",
    "    \n",
    "\n",
    "\n"
   ]
  },
  {
   "cell_type": "markdown",
   "metadata": {},
   "source": [
    "####  Write a program that computes the value of a+aa+aaa+aaaa with a given digit as the value of a."
   ]
  },
  {
   "cell_type": "code",
   "execution_count": 3,
   "metadata": {
    "ExecuteTime": {
     "end_time": "2020-10-31T09:48:33.352142Z",
     "start_time": "2020-10-31T09:48:31.594476Z"
    }
   },
   "outputs": [
    {
     "name": "stdout",
     "output_type": "stream",
     "text": [
      "enter number:3\n",
      "369\n"
     ]
    }
   ],
   "source": [
    "nud= int(input(\"enter number:\"))\n",
    "\n",
    "sd=0\n",
    "for i in range(1,nud+1):\n",
    "    sd += int(str(nud)*i)\n",
    "print(sd)\n"
   ]
  },
  {
   "cell_type": "markdown",
   "metadata": {},
   "source": [
    "####  write a program that lets user to input the value seperate by \",\" and create a list from it using list comprehension"
   ]
  },
  {
   "cell_type": "code",
   "execution_count": 5,
   "metadata": {
    "ExecuteTime": {
     "end_time": "2020-10-31T09:55:33.941426Z",
     "start_time": "2020-10-31T09:55:28.614439Z"
    }
   },
   "outputs": [
    {
     "name": "stdout",
     "output_type": "stream",
     "text": [
      "enter list of number with comma separation: 7,7,8,9,09\n"
     ]
    },
    {
     "data": {
      "text/plain": [
       "[7, 7, 8, 9, 9]"
      ]
     },
     "execution_count": 5,
     "metadata": {},
     "output_type": "execute_result"
    }
   ],
   "source": [
    "nd= (input(\"enter list of number with comma separation: \"))\n",
    "nd= list(nd.split(','))\n",
    "[int(i) for i in nd]"
   ]
  },
  {
   "cell_type": "markdown",
   "metadata": {},
   "source": [
    "#### Write a program that calculates and prints the value according to the given formula:"
   ]
  },
  {
   "cell_type": "code",
   "execution_count": 6,
   "metadata": {
    "ExecuteTime": {
     "end_time": "2020-10-31T10:05:32.911280Z",
     "start_time": "2020-10-31T10:05:32.889300Z"
    }
   },
   "outputs": [
    {
     "data": {
      "text/plain": [
       "[18.26, 22.36]"
      ]
     },
     "execution_count": 6,
     "metadata": {},
     "output_type": "execute_result"
    }
   ],
   "source": [
    "#Q = Square root of (2 C D)/H\n",
    "#given,\n",
    "#c=50\n",
    "#h=30\n",
    "# D is the variable whose values should be input to your program in a\n",
    "# comma-separated sequence.\n",
    "# Example 100,150,180\n",
    "# The output : 18,22,24\n",
    "\n",
    "\n",
    "def qv(*D):\n",
    "    Q1=[]\n",
    "    c= 50\n",
    "    h = 30\n",
    "    for d in D:\n",
    "        d= int(d)\n",
    "        Q = round(pow((2*c*d)/h, 0.5),2)\n",
    "        Q1.append(Q)\n",
    "    return Q1\n",
    "qv(100,150.180)\n"
   ]
  },
  {
   "cell_type": "markdown",
   "metadata": {},
   "source": [
    "####  Write a program that accepts a sequence of whitespace separated words as input and prints the words after removing all duplicate words and sorting them alphanumerically."
   ]
  },
  {
   "cell_type": "code",
   "execution_count": 2,
   "metadata": {
    "ExecuteTime": {
     "end_time": "2020-11-01T09:12:33.096659Z",
     "start_time": "2020-11-01T09:12:25.273712Z"
    }
   },
   "outputs": [
    {
     "name": "stdout",
     "output_type": "stream",
     "text": [
      "put a sentence here: this is a long long sentence\n",
      "['this', 'is', 'a', 'long', 'long', 'sentence']\n",
      "['this', 'is', 'a', 'long', 'sentence']\n",
      "a is long sentence this\n"
     ]
    }
   ],
   "source": [
    "text = input('put a sentence here: ')\n",
    "li_t= text.split(' ')\n",
    "print(li_t)\n",
    "\n",
    "for i in li_t:\n",
    "    if li_t.count(i)> 1: \n",
    "        li_t.remove(i)\n",
    "        \n",
    "print(li_t)\n",
    "\n",
    "li_t.sort()\n",
    "\n",
    "print(\" \".join(li_t))\n"
   ]
  },
  {
   "cell_type": "code",
   "execution_count": 3,
   "metadata": {
    "ExecuteTime": {
     "end_time": "2020-11-01T09:20:37.920941Z",
     "start_time": "2020-11-01T09:20:28.009955Z"
    }
   },
   "outputs": [
    {
     "name": "stdout",
     "output_type": "stream",
     "text": [
      "put a sentence here:i have a house and house\n",
      "<class 'set'>\n"
     ]
    }
   ],
   "source": [
    "text= input ('put a sentence here:')\n",
    "set(text.split(' '))\n",
    "print(set)"
   ]
  },
  {
   "cell_type": "markdown",
   "metadata": {},
   "source": [
    "####  Write a program which accepts a sequence of comma separated 4 digit binary numbers and then check whether they are divisible by 5 or not. print the number"
   ]
  },
  {
   "cell_type": "code",
   "execution_count": 6,
   "metadata": {
    "ExecuteTime": {
     "end_time": "2020-11-01T09:23:54.917079Z",
     "start_time": "2020-11-01T09:23:46.648341Z"
    }
   },
   "outputs": [
    {
     "name": "stdout",
     "output_type": "stream",
     "text": [
      "put 4 digit binary numbers separated by comma0100,0011,1010,1001\n",
      "0\n",
      "0\n",
      "0\n",
      "wrong input type, please try again!\n"
     ]
    }
   ],
   "source": [
    "# Example: 0100,0011,1010,1001 Then the output should be: 1010\n",
    "\n",
    "try: \n",
    "    seq=input('put 4 digit binary numbers separated by comma')\n",
    "    for i in seq:\n",
    "        if int(i, 2) %5 == 0:\n",
    "            print(i)\n",
    "except:\n",
    "    print('wrong input type, please try again!')\n",
    "    \n",
    "        "
   ]
  },
  {
   "cell_type": "markdown",
   "metadata": {},
   "source": [
    "####  By using list comprehension, please write a program to print the list after removing the even index numbers"
   ]
  },
  {
   "cell_type": "code",
   "execution_count": 7,
   "metadata": {
    "ExecuteTime": {
     "end_time": "2020-11-01T09:26:26.452077Z",
     "start_time": "2020-11-01T09:26:26.413114Z"
    }
   },
   "outputs": [
    {
     "name": "stdout",
     "output_type": "stream",
     "text": [
      "[0, 1, 2, 3, 4, 5, 6, 7, 8, 9]\n"
     ]
    },
    {
     "data": {
      "text/plain": [
       "[1, 3, 5, 7, 9]"
      ]
     },
     "execution_count": 7,
     "metadata": {},
     "output_type": "execute_result"
    }
   ],
   "source": [
    "#li=range(10)\n",
    "\n",
    "li= [i for i in range(10)]\n",
    "print(li)\n",
    "\n",
    "[i for i in li if i%2!=0]\n",
    "\n"
   ]
  },
  {
   "cell_type": "markdown",
   "metadata": {},
   "source": [
    "####  write a function to get the sum of two num(use lambda)\n"
   ]
  },
  {
   "cell_type": "code",
   "execution_count": 8,
   "metadata": {
    "ExecuteTime": {
     "end_time": "2020-11-01T09:27:47.568473Z",
     "start_time": "2020-11-01T09:27:47.549490Z"
    }
   },
   "outputs": [
    {
     "name": "stdout",
     "output_type": "stream",
     "text": [
      "3\n"
     ]
    }
   ],
   "source": [
    "func = lambda x,y: x+y\n",
    "print(func(1,2))"
   ]
  },
  {
   "cell_type": "markdown",
   "metadata": {},
   "source": [
    "#### write a function to print if leap year or not"
   ]
  },
  {
   "cell_type": "code",
   "execution_count": 10,
   "metadata": {
    "ExecuteTime": {
     "end_time": "2020-11-01T09:34:42.475732Z",
     "start_time": "2020-11-01T09:34:42.456751Z"
    }
   },
   "outputs": [
    {
     "name": "stdout",
     "output_type": "stream",
     "text": [
      " 2020 is a leap year\n"
     ]
    }
   ],
   "source": [
    "def leap_year_checker(year_no):\n",
    "    if year_no%4==0:\n",
    "        print(f' {year_no} is a leap year')\n",
    "              \n",
    "              \n",
    "leap_year_checker(2020)"
   ]
  },
  {
   "cell_type": "markdown",
   "metadata": {},
   "source": [
    "#### write a function to count a bit(number of 1) in number (use lambda)\n"
   ]
  },
  {
   "cell_type": "code",
   "execution_count": 13,
   "metadata": {
    "ExecuteTime": {
     "end_time": "2020-11-01T09:36:56.854877Z",
     "start_time": "2020-11-01T09:36:56.831900Z"
    }
   },
   "outputs": [
    {
     "data": {
      "text/plain": [
       "2"
      ]
     },
     "execution_count": 13,
     "metadata": {},
     "output_type": "execute_result"
    }
   ],
   "source": [
    "func_bit= lambda x: str(bin(x)).count('1')\n",
    "\n",
    "func_bit(6)"
   ]
  },
  {
   "cell_type": "markdown",
   "metadata": {},
   "source": [
    "#### write a program to get the area of a circle from the radius (use lambda)"
   ]
  },
  {
   "cell_type": "code",
   "execution_count": 15,
   "metadata": {
    "ExecuteTime": {
     "end_time": "2020-11-01T09:41:26.063930Z",
     "start_time": "2020-11-01T09:41:26.039953Z"
    }
   },
   "outputs": [
    {
     "data": {
      "text/plain": [
       "12.566370614359172"
      ]
     },
     "execution_count": 15,
     "metadata": {},
     "output_type": "execute_result"
    }
   ],
   "source": [
    "import math \n",
    "func_area_circle= lambda r: math.pi*r**2\n",
    "func_area_circle(2)"
   ]
  },
  {
   "cell_type": "markdown",
   "metadata": {},
   "source": [
    "#### write a function to get the factorial of given number use recurssion"
   ]
  },
  {
   "cell_type": "code",
   "execution_count": 17,
   "metadata": {
    "ExecuteTime": {
     "end_time": "2020-11-01T09:43:31.680344Z",
     "start_time": "2020-11-01T09:43:31.649371Z"
    }
   },
   "outputs": [
    {
     "data": {
      "text/plain": [
       "120"
      ]
     },
     "execution_count": 17,
     "metadata": {},
     "output_type": "execute_result"
    }
   ],
   "source": [
    "def fact(num):\n",
    "    if num==1:\n",
    "        return 1\n",
    "    else:\n",
    "        return num*fact(num-1)\n",
    "fact(5)"
   ]
  },
  {
   "cell_type": "markdown",
   "metadata": {},
   "source": [
    "#### write a program to remove a duplicate word in a list or user input sentences.\n"
   ]
  },
  {
   "cell_type": "code",
   "execution_count": 19,
   "metadata": {
    "ExecuteTime": {
     "end_time": "2020-11-01T09:50:27.474584Z",
     "start_time": "2020-11-01T09:50:27.452606Z"
    }
   },
   "outputs": [
    {
     "data": {
      "text/plain": [
       "'this is a  '"
      ]
     },
     "execution_count": 19,
     "metadata": {},
     "output_type": "execute_result"
    }
   ],
   "source": [
    "user = 'this is a sentence sentence'\n",
    "li= user.split(' ')\n",
    "\n",
    "#find duplicate\n",
    "\n",
    "[i for i in set(li) if li.count(i)>=2]\n",
    "\n",
    "# remove in a way you want\n",
    "\n",
    "user.replace('sentence', '')\n",
    "\n"
   ]
  },
  {
   "cell_type": "markdown",
   "metadata": {},
   "source": [
    "#### calculate fibonacci"
   ]
  },
  {
   "cell_type": "code",
   "execution_count": 20,
   "metadata": {
    "ExecuteTime": {
     "end_time": "2020-11-01T09:52:43.996357Z",
     "start_time": "2020-11-01T09:52:43.974376Z"
    }
   },
   "outputs": [
    {
     "name": "stdout",
     "output_type": "stream",
     "text": [
      "0\n",
      "1\n",
      "1\n",
      "2\n",
      "3\n",
      "5\n"
     ]
    }
   ],
   "source": [
    "def fibo(num):\n",
    "    if num==0:\n",
    "        return 0\n",
    "    elif num==1:\n",
    "        return 1\n",
    "    else: \n",
    "        return fibo(num-1)+ fibo(num-2)\n",
    "    \n",
    "for i in range(6):\n",
    "    print(fibo(i))"
   ]
  },
  {
   "cell_type": "markdown",
   "metadata": {},
   "source": [
    "#### write a function to get the premutation and combination"
   ]
  },
  {
   "cell_type": "code",
   "execution_count": 3,
   "metadata": {
    "ExecuteTime": {
     "end_time": "2020-11-02T14:07:53.348187Z",
     "start_time": "2020-11-02T14:07:53.327204Z"
    }
   },
   "outputs": [],
   "source": [
    "# PREMUTATION= is an arrangement of objects in a specific order. \n",
    "# the number of premutations on a set of n  elements is given by n!\n",
    "# COMBINATION= Combinations are emitted in lexicographic sort order of input. \n",
    "# So, if the input list is sorted, the combination tuples will be produced in sorted order.\n",
    "\n",
    "\n",
    "def factorial(n):\n",
    "    if n <= 1:\n",
    "        return 1\n",
    "    else:\n",
    "        return n* factorial(n-1)\n",
    "        \n",
    "def premutation(n,r):\n",
    "    return factorial(n) / factorial(n-r)\n",
    "\n",
    "def combination(n,r):\n",
    "    return factorial(n) /(factorial(r) * factorial(n-r))\n"
   ]
  },
  {
   "cell_type": "markdown",
   "metadata": {},
   "source": [
    "####  write a function to draw a diamond shape from a user given number:\n",
    "- hint: only odd number can draw a diamond shape\n"
   ]
  },
  {
   "cell_type": "code",
   "execution_count": 8,
   "metadata": {
    "ExecuteTime": {
     "end_time": "2020-11-02T18:08:23.549605Z",
     "start_time": "2020-11-02T18:08:23.541615Z"
    }
   },
   "outputs": [
    {
     "name": "stdout",
     "output_type": "stream",
     "text": [
      "    *    \n",
      "   ***   \n",
      "  *****  \n",
      " ******* \n",
      "*********\n",
      " ******* \n",
      "  *****  \n",
      "   ***   \n",
      "    *    \n"
     ]
    }
   ],
   "source": [
    "num = 9\n",
    "\n",
    "for i in range(1, num+1):\n",
    "  i = i - (num//2 +1)\n",
    "  if i < 0:\n",
    "    i = -i\n",
    "  print(\" \" * i + \"*\" * (num - i*2) + \" \"*i)"
   ]
  },
  {
   "cell_type": "markdown",
   "metadata": {},
   "source": [
    "####  build a simple calculator which can:\n",
    "- add, subtract, multiply and divide"
   ]
  },
  {
   "cell_type": "code",
   "execution_count": 14,
   "metadata": {
    "ExecuteTime": {
     "end_time": "2020-11-02T18:28:41.999461Z",
     "start_time": "2020-11-02T18:28:34.584866Z"
    }
   },
   "outputs": [
    {
     "name": "stdout",
     "output_type": "stream",
     "text": [
      "Please choose the calculation method(add/substract/multiply and dividesubstract\n",
      "-1\n"
     ]
    }
   ],
   "source": [
    "def simple_calculator(num1, num2, a = 'add'):\n",
    "    a = input('Please choose the calculation method(add/substract/multiply and divide')\n",
    "    if a == 'add':\n",
    "        print(num1 + num2)\n",
    "    elif a == 'substract':\n",
    "        print(num1-num2)\n",
    "    elif a== 'multiply':\n",
    "        print(num1 * num2)\n",
    "    elif a== 'divide':\n",
    "        try:\n",
    "            print (num1 / num2)\n",
    "        except ZeroDivisionError:\n",
    "            print('There is an error')\n",
    "    else: \n",
    "        print('Please choose the correct calculation method')\n",
    "    \n",
    "simple_calculator(8,9)"
   ]
  },
  {
   "cell_type": "markdown",
   "metadata": {
    "ExecuteTime": {
     "start_time": "2020-11-02T19:28:59.060Z"
    }
   },
   "source": [
    "####  define a function which can print a given string in a circular rotation\n"
   ]
  },
  {
   "cell_type": "code",
   "execution_count": 6,
   "metadata": {
    "ExecuteTime": {
     "end_time": "2020-11-02T19:34:18.653883Z",
     "start_time": "2020-11-02T19:34:05.898056Z"
    }
   },
   "outputs": [
    {
     "name": "stdout",
     "output_type": "stream",
     "text": [
      "Please give a stringrabbit\n"
     ]
    },
    {
     "data": {
      "text/plain": [
       "'rabbittibbar'"
      ]
     },
     "execution_count": 6,
     "metadata": {},
     "output_type": "execute_result"
    }
   ],
   "source": [
    "\n",
    "def circular_string():\n",
    "    x= input('Please give a string')\n",
    "    return x + x [::-1]\n",
    "\n",
    "circular_string()\n"
   ]
  },
  {
   "cell_type": "code",
   "execution_count": 8,
   "metadata": {
    "ExecuteTime": {
     "end_time": "2020-11-02T19:39:07.913970Z",
     "start_time": "2020-11-02T19:39:07.906976Z"
    }
   },
   "outputs": [
    {
     "data": {
      "text/plain": [
       "['abcd', 'bcda', 'cdab', 'dabc']"
      ]
     },
     "execution_count": 8,
     "metadata": {},
     "output_type": "execute_result"
    }
   ],
   "source": [
    "str1 = 'abcd'\n",
    "[str1[i:] + str1[:i] for i in range(len(str1))]"
   ]
  },
  {
   "cell_type": "markdown",
   "metadata": {},
   "source": [
    "####  write a function to calculate the GCD of 2 number"
   ]
  },
  {
   "cell_type": "code",
   "execution_count": 4,
   "metadata": {
    "ExecuteTime": {
     "end_time": "2020-11-02T20:26:59.837615Z",
     "start_time": "2020-11-02T20:26:59.819632Z"
    }
   },
   "outputs": [
    {
     "data": {
      "text/plain": [
       "1"
      ]
     },
     "execution_count": 4,
     "metadata": {},
     "output_type": "execute_result"
    }
   ],
   "source": [
    "# greatest common divisor(GCD) of a and b is the largest number that divides both of them with no remainder. \n",
    "\n",
    "def GCD(num1, num2):\n",
    "    \n",
    "    ls1= [] # initialize a list to hold all of the divisors of num1\n",
    "    for i in range(1, num1+1):\n",
    "        if num1 % 1==0:\n",
    "            ls1.append(1)\n",
    "    \n",
    "    ls2 = [] # initialize a list to hold all of the divisors of num1\n",
    "    for i in range(1, num2 +1):\n",
    "        if num2 % 1 == 0:\n",
    "            ls2.append(1)\n",
    "        \n",
    "    common_divisor = []\n",
    "    for a in ls1:\n",
    "        for b in ls2:\n",
    "            if a == b:\n",
    "                common_divisor.append(a)\n",
    "                \n",
    "    return (max(common_divisor))\n",
    "\n",
    "GCD(10, 5)"
   ]
  },
  {
   "cell_type": "markdown",
   "metadata": {},
   "source": [
    "#### Write a Python function to check whether a string is pangram or not.\n"
   ]
  },
  {
   "cell_type": "code",
   "execution_count": 5,
   "metadata": {
    "ExecuteTime": {
     "end_time": "2020-11-02T20:30:07.443096Z",
     "start_time": "2020-11-02T20:30:07.433103Z"
    }
   },
   "outputs": [
    {
     "data": {
      "text/plain": [
       "True"
      ]
     },
     "execution_count": 5,
     "metadata": {},
     "output_type": "execute_result"
    }
   ],
   "source": [
    "# a pangram is a sentence containing every letter in the english alphabet\n",
    "# ASCII-american standard code for information interchange.it is a numeric value given to different characters and symbols. \n",
    "import string\n",
    "\n",
    "alphabet = set(string.ascii_lowercase)\n",
    "\n",
    "def is_pangram(a):\n",
    "    return set(a.lower()) >= alphabet\n",
    "is_pangram('the quick brown fox jumps over the lazy dog')\n"
   ]
  },
  {
   "cell_type": "markdown",
   "metadata": {},
   "source": [
    "#### write a function which take a list of number and target , where target is number . print the index from the list where the sum of the index value is equal to that of the target\n",
    "\n"
   ]
  },
  {
   "cell_type": "code",
   "execution_count": 8,
   "metadata": {
    "ExecuteTime": {
     "end_time": "2020-11-02T20:44:59.315496Z",
     "start_time": "2020-11-02T20:44:59.306504Z"
    }
   },
   "outputs": [
    {
     "name": "stdout",
     "output_type": "stream",
     "text": [
      " ls[1], and is [4] will yield 7\n",
      " ls[2], and is [3] will yield 7\n",
      " ls[3], and is [2] will yield 7\n"
     ]
    }
   ],
   "source": [
    "def q_86(lis, target):\n",
    "    for i in range(len(lis)-1):\n",
    "        gap= target - lis[i]\n",
    "        if gap in lis:\n",
    "            j = lis.index(gap)\n",
    "            print(f\" ls[{i}], and is [{j}] will yield {target}\")\n",
    "            \n",
    "q_86([1,2,3,4,5], 7)"
   ]
  },
  {
   "cell_type": "markdown",
   "metadata": {},
   "source": [
    "#### write a function to calculate the LCM of a 2 number, lcm of 54 and 42 is 216\n"
   ]
  },
  {
   "cell_type": "code",
   "execution_count": 9,
   "metadata": {
    "ExecuteTime": {
     "end_time": "2020-11-02T20:51:04.172998Z",
     "start_time": "2020-11-02T20:51:04.164005Z"
    }
   },
   "outputs": [
    {
     "name": "stdout",
     "output_type": "stream",
     "text": [
      "216\n"
     ]
    }
   ],
   "source": [
    "def LCM(num1, num2):\n",
    "    if num1> num2:\n",
    "        greater = num1\n",
    "    else: \n",
    "        greater = num2\n",
    "    \n",
    "    while True: \n",
    "        greater += 1\n",
    "        if greater % num1 == 0 and greater % num2 ==0:\n",
    "            print(greater)\n",
    "            break\n",
    "\n",
    "LCM(54, 24)"
   ]
  },
  {
   "cell_type": "markdown",
   "metadata": {
    "ExecuteTime": {
     "end_time": "2020-11-03T15:26:26.282459Z",
     "start_time": "2020-11-03T15:26:26.246498Z"
    }
   },
   "source": [
    "\n",
    "#### write a function that gives the prime factor only"
   ]
  },
  {
   "cell_type": "code",
   "execution_count": 19,
   "metadata": {
    "ExecuteTime": {
     "end_time": "2020-11-03T15:31:31.183646Z",
     "start_time": "2020-11-03T15:31:31.156676Z"
    }
   },
   "outputs": [
    {
     "name": "stdout",
     "output_type": "stream",
     "text": [
      "3\n",
      "11\n"
     ]
    }
   ],
   "source": [
    "# any of the prime numbers that can be multiplied to give the original numbper. \n",
    "\n",
    "def prime_factor(num):\n",
    "    count_i_divisor =[]\n",
    "    for i in range(2, num +1):\n",
    "        if num % i == 0:\n",
    "            count_i_divisor.append(i)\n",
    "    \n",
    "    for j in count_i_divisor:\n",
    "        count_j_divisor = []\n",
    "        for a in range(2, j +1):\n",
    "            if j % a == 0:\n",
    "                count_j_divisor.append(a)\n",
    "        if len(count_j_divisor) <2:\n",
    "            print(j)\n",
    "prime_factor(99)"
   ]
  },
  {
   "cell_type": "markdown",
   "metadata": {},
   "source": [
    "#### write a function that print the first non repeating letter"
   ]
  },
  {
   "cell_type": "code",
   "execution_count": 22,
   "metadata": {
    "ExecuteTime": {
     "end_time": "2020-11-03T18:35:03.896250Z",
     "start_time": "2020-11-03T18:35:03.869282Z"
    }
   },
   "outputs": [
    {
     "name": "stdout",
     "output_type": "stream",
     "text": [
      "b\n"
     ]
    }
   ],
   "source": [
    "def non_repeated_print(string):\n",
    "    for i in string:\n",
    "        if string.count(i)== 1:\n",
    "            break\n",
    "    print(i)\n",
    "        \n",
    "non_repeated_print('aadddbcc')"
   ]
  },
  {
   "cell_type": "markdown",
   "metadata": {},
   "source": [
    "#### return sum of array excluding the lowest and highest element"
   ]
  },
  {
   "cell_type": "code",
   "execution_count": 23,
   "metadata": {
    "ExecuteTime": {
     "end_time": "2020-11-03T18:37:39.505793Z",
     "start_time": "2020-11-03T18:37:39.479817Z"
    }
   },
   "outputs": [
    {
     "data": {
      "text/plain": [
       "4"
      ]
     },
     "execution_count": 23,
     "metadata": {},
     "output_type": "execute_result"
    }
   ],
   "source": [
    "my_list =[2,4,7]\n",
    "my_list.remove(max(my_list))\n",
    "my_list.remove(min(my_list))\n",
    "sum(my_list)"
   ]
  },
  {
   "cell_type": "markdown",
   "metadata": {},
   "source": [
    "#### define a function, take a string value, replace any number below 5 with 0 and any number above 5 with 1\n"
   ]
  },
  {
   "cell_type": "code",
   "execution_count": 25,
   "metadata": {
    "ExecuteTime": {
     "end_time": "2020-11-03T18:42:02.626986Z",
     "start_time": "2020-11-03T18:42:02.593018Z"
    }
   },
   "outputs": [
    {
     "data": {
      "text/plain": [
       "'1111151001515101101010'"
      ]
     },
     "execution_count": 25,
     "metadata": {},
     "output_type": "execute_result"
    }
   ],
   "source": [
    "def q91(str1):\n",
    "    result = \"\"\n",
    "    for i in str1:\n",
    "        if int(i)<5:\n",
    "            result +=\"0\"\n",
    "        elif int(i) > 5:\n",
    "            result +=\"1\"\n",
    "        else: \n",
    "            result += i \n",
    "    return result\n",
    "\n",
    "q91(\"8686959448585949849393\")"
   ]
  },
  {
   "cell_type": "code",
   "execution_count": 30,
   "metadata": {
    "ExecuteTime": {
     "end_time": "2020-11-03T18:46:31.987479Z",
     "start_time": "2020-11-03T18:46:31.938523Z"
    }
   },
   "outputs": [
    {
     "name": "stderr",
     "output_type": "stream",
     "text": [
      "<>:3: SyntaxWarning: 'int' object is not subscriptable; perhaps you missed a comma?\n",
      "<>:3: SyntaxWarning: 'int' object is not subscriptable; perhaps you missed a comma?\n",
      "<ipython-input-30-778c8c1d4a9f>:3: SyntaxWarning: 'int' object is not subscriptable; perhaps you missed a comma?\n",
      "  [1[0] if (i)<5 else 1[2] for i in str1]\n",
      "<ipython-input-30-778c8c1d4a9f>:3: SyntaxWarning: 'int' object is not subscriptable; perhaps you missed a comma?\n",
      "  [1[0] if (i)<5 else 1[2] for i in str1]\n"
     ]
    },
    {
     "ename": "TypeError",
     "evalue": "'<' not supported between instances of 'str' and 'int'",
     "output_type": "error",
     "traceback": [
      "\u001b[1;31m---------------------------------------------------------------------------\u001b[0m",
      "\u001b[1;31mTypeError\u001b[0m                                 Traceback (most recent call last)",
      "\u001b[1;32m<ipython-input-30-778c8c1d4a9f>\u001b[0m in \u001b[0;36m<module>\u001b[1;34m\u001b[0m\n\u001b[0;32m      1\u001b[0m \u001b[0mstr1\u001b[0m\u001b[1;33m=\u001b[0m\u001b[1;34m\"9585748483372829201\"\u001b[0m\u001b[1;33m\u001b[0m\u001b[1;33m\u001b[0m\u001b[0m\n\u001b[0;32m      2\u001b[0m \u001b[0mi\u001b[0m \u001b[1;33m=\u001b[0m \u001b[1;33m[\u001b[0m\u001b[1;36m0\u001b[0m\u001b[1;33m,\u001b[0m\u001b[1;36m5\u001b[0m\u001b[1;33m,\u001b[0m\u001b[1;36m1\u001b[0m\u001b[1;33m]\u001b[0m\u001b[1;33m\u001b[0m\u001b[1;33m\u001b[0m\u001b[0m\n\u001b[1;32m----> 3\u001b[1;33m \u001b[1;33m[\u001b[0m\u001b[1;36m1\u001b[0m\u001b[1;33m[\u001b[0m\u001b[1;36m0\u001b[0m\u001b[1;33m]\u001b[0m \u001b[1;32mif\u001b[0m \u001b[1;33m(\u001b[0m\u001b[0mi\u001b[0m\u001b[1;33m)\u001b[0m\u001b[1;33m<\u001b[0m\u001b[1;36m5\u001b[0m \u001b[1;32melse\u001b[0m \u001b[1;36m1\u001b[0m\u001b[1;33m[\u001b[0m\u001b[1;36m2\u001b[0m\u001b[1;33m]\u001b[0m \u001b[1;32mfor\u001b[0m \u001b[0mi\u001b[0m \u001b[1;32min\u001b[0m \u001b[0mstr1\u001b[0m\u001b[1;33m]\u001b[0m\u001b[1;33m\u001b[0m\u001b[1;33m\u001b[0m\u001b[0m\n\u001b[0m",
      "\u001b[1;32m<ipython-input-30-778c8c1d4a9f>\u001b[0m in \u001b[0;36m<listcomp>\u001b[1;34m(.0)\u001b[0m\n\u001b[0;32m      1\u001b[0m \u001b[0mstr1\u001b[0m\u001b[1;33m=\u001b[0m\u001b[1;34m\"9585748483372829201\"\u001b[0m\u001b[1;33m\u001b[0m\u001b[1;33m\u001b[0m\u001b[0m\n\u001b[0;32m      2\u001b[0m \u001b[0mi\u001b[0m \u001b[1;33m=\u001b[0m \u001b[1;33m[\u001b[0m\u001b[1;36m0\u001b[0m\u001b[1;33m,\u001b[0m\u001b[1;36m5\u001b[0m\u001b[1;33m,\u001b[0m\u001b[1;36m1\u001b[0m\u001b[1;33m]\u001b[0m\u001b[1;33m\u001b[0m\u001b[1;33m\u001b[0m\u001b[0m\n\u001b[1;32m----> 3\u001b[1;33m \u001b[1;33m[\u001b[0m\u001b[1;36m1\u001b[0m\u001b[1;33m[\u001b[0m\u001b[1;36m0\u001b[0m\u001b[1;33m]\u001b[0m \u001b[1;32mif\u001b[0m \u001b[1;33m(\u001b[0m\u001b[0mi\u001b[0m\u001b[1;33m)\u001b[0m\u001b[1;33m<\u001b[0m\u001b[1;36m5\u001b[0m \u001b[1;32melse\u001b[0m \u001b[1;36m1\u001b[0m\u001b[1;33m[\u001b[0m\u001b[1;36m2\u001b[0m\u001b[1;33m]\u001b[0m \u001b[1;32mfor\u001b[0m \u001b[0mi\u001b[0m \u001b[1;32min\u001b[0m \u001b[0mstr1\u001b[0m\u001b[1;33m]\u001b[0m\u001b[1;33m\u001b[0m\u001b[1;33m\u001b[0m\u001b[0m\n\u001b[0m",
      "\u001b[1;31mTypeError\u001b[0m: '<' not supported between instances of 'str' and 'int'"
     ]
    }
   ],
   "source": [
    "str1=\"9585748483372829201\"\n",
    "i = [0,5,1]\n",
    "[1[0] if int(i)<5 else 1[2] for i in str1]"
   ]
  },
  {
   "cell_type": "markdown",
   "metadata": {},
   "source": [
    "####  write a function to get a day of week eg: (30,8,2010)=1"
   ]
  },
  {
   "cell_type": "code",
   "execution_count": null,
   "metadata": {},
   "outputs": [],
   "source": [
    "import datetime as dt\n",
    "\n",
    "def q92(d):\n",
    "    week = ['Sunday',\n",
    "            'Monday',\n",
    "           'Tuesday',\n",
    "           'Wenesday',\n",
    "           'Thursday',\n",
    "           'Friday',\n",
    "           'Saturday']\n",
    "    \n",
    "    inp= input(\"give a date:\")\n",
    "    i = list(map(int, inp.split(\",\")))\n",
    "    base = [1,1,1920]\n",
    "    wd = 4\n",
    "    d = -1\n",
    "    num_of_day = [0,31,59,90,120,151,181,212,243,273,304,334]\n",
    "    for i in range(1920, i[2]):\n",
    "        if i%4 == 0:\n",
    "            d += 366\n",
    "        else: \n",
    "            d += 365\n",
    "    if 1[1]>2:\n",
    "        if  1[2]%4== 0:\n",
    "            d += num_of_day[1[1]-1]"
   ]
  },
  {
   "cell_type": "markdown",
   "metadata": {},
   "source": [
    "#### write a function to get all the permutation of the string"
   ]
  },
  {
   "cell_type": "code",
   "execution_count": 7,
   "metadata": {
    "ExecuteTime": {
     "end_time": "2020-11-03T19:09:53.969920Z",
     "start_time": "2020-11-03T19:09:53.937955Z"
    }
   },
   "outputs": [
    {
     "name": "stdout",
     "output_type": "stream",
     "text": [
      "ABC\n",
      "ACB\n",
      "BAC\n",
      "BCA\n",
      "CBA\n",
      "CAB\n"
     ]
    }
   ],
   "source": [
    "def permute(data, i, length): \n",
    "    if i==length: \n",
    "        print(''.join(data) )\n",
    "    else: \n",
    "        for j in range(i,length): \n",
    "            #swap\n",
    "            data[i], data[j] = data[j], data[i] \n",
    "            permute(data, i+1, length) \n",
    "            data[i], data[j] = data[j], data[i]  \n",
    "\n",
    "\n",
    "string = \"ABC\"\n",
    "n = len(string) \n",
    "data = list(string) \n",
    "permute(data, 0, n)"
   ]
  },
  {
   "cell_type": "markdown",
   "metadata": {
    "ExecuteTime": {
     "end_time": "2020-11-03T19:10:19.322470Z",
     "start_time": "2020-11-03T19:10:19.282508Z"
    }
   },
   "source": [
    "#### write a function to get all the possible subset of a string in a list\n"
   ]
  },
  {
   "cell_type": "code",
   "execution_count": 13,
   "metadata": {
    "ExecuteTime": {
     "end_time": "2020-11-03T19:17:53.049426Z",
     "start_time": "2020-11-03T19:17:53.024449Z"
    }
   },
   "outputs": [
    {
     "data": {
      "text/plain": [
       "['aa',\n",
       " 'ab',\n",
       " 'ac',\n",
       " 'ad',\n",
       " 'ba',\n",
       " 'bb',\n",
       " 'bc',\n",
       " 'bd',\n",
       " 'ca',\n",
       " 'cb',\n",
       " 'cc',\n",
       " 'cd',\n",
       " 'da',\n",
       " 'db',\n",
       " 'dc',\n",
       " 'dd']"
      ]
     },
     "execution_count": 13,
     "metadata": {},
     "output_type": "execute_result"
    }
   ],
   "source": [
    "#comprehension\n",
    "def list_string(str):\n",
    "  level = [x+y for x in str for y in str if len(str) > 1]\n",
    "  return level\n",
    "\n",
    "list_string('abcd')"
   ]
  },
  {
   "cell_type": "markdown",
   "metadata": {},
   "source": [
    "#### write a function to get the length of the last word only from a string seperated by space\n"
   ]
  },
  {
   "cell_type": "code",
   "execution_count": 14,
   "metadata": {
    "ExecuteTime": {
     "end_time": "2020-11-03T19:27:45.866012Z",
     "start_time": "2020-11-03T19:27:45.839037Z"
    }
   },
   "outputs": [
    {
     "data": {
      "text/plain": [
       "5"
      ]
     },
     "execution_count": 14,
     "metadata": {},
     "output_type": "execute_result"
    }
   ],
   "source": [
    "# ex:('string of words') == 5 ex:('adasd ')=5\n",
    "\n",
    "def q95(str1):\n",
    "    count=0\n",
    "    for i in str1.split()[-1]:\n",
    "        count +=1\n",
    "    return count\n",
    "q95 ('string of words')"
   ]
  },
  {
   "cell_type": "markdown",
   "metadata": {},
   "source": [
    "####  write a program for a tower of hanoi puzzle"
   ]
  },
  {
   "cell_type": "code",
   "execution_count": null,
   "metadata": {},
   "outputs": [],
   "source": []
  },
  {
   "cell_type": "markdown",
   "metadata": {},
   "source": [
    "####  write a function to check if the number is harshad or not A Harshad number is an integer that is divisible by the sum of its digits (for example, 21 is divisible by 2+1=3 and so is a Harshad number).\n"
   ]
  },
  {
   "cell_type": "code",
   "execution_count": 1,
   "metadata": {
    "ExecuteTime": {
     "end_time": "2020-11-04T12:52:22.963728Z",
     "start_time": "2020-11-04T12:52:22.939750Z"
    }
   },
   "outputs": [
    {
     "data": {
      "text/plain": [
       "3.141592653595635"
      ]
     },
     "execution_count": 1,
     "metadata": {},
     "output_type": "execute_result"
    }
   ],
   "source": [
    "def q97 ():\n",
    "    s = 0\n",
    "    j = 1\n",
    "    for i in range(21):\n",
    "        if i%2: \n",
    "            s -= 1/ (j *3**i)\n",
    "            j += 2\n",
    "        else:\n",
    "            s += 1/(j*3**i)\n",
    "            j += 2\n",
    "    return s*12**(1/2)\n",
    "\n",
    "q97()\n",
    "    "
   ]
  },
  {
   "cell_type": "markdown",
   "metadata": {
    "ExecuteTime": {
     "end_time": "2020-11-04T12:52:54.175240Z",
     "start_time": "2020-11-04T12:52:54.159253Z"
    }
   },
   "source": [
    "#### 98"
   ]
  },
  {
   "cell_type": "markdown",
   "metadata": {},
   "source": [
    "#### write a function select_word(): to get a random word from a list of words , use module random and call random.randint() to chose random"
   ]
  },
  {
   "cell_type": "code",
   "execution_count": 2,
   "metadata": {
    "ExecuteTime": {
     "end_time": "2020-11-04T12:57:33.821358Z",
     "start_time": "2020-11-04T12:57:33.791388Z"
    }
   },
   "outputs": [
    {
     "ename": "TypeError",
     "evalue": "'list' object is not callable",
     "output_type": "error",
     "traceback": [
      "\u001b[1;31m---------------------------------------------------------------------------\u001b[0m",
      "\u001b[1;31mTypeError\u001b[0m                                 Traceback (most recent call last)",
      "\u001b[1;32m<ipython-input-2-aa7594e9dc31>\u001b[0m in \u001b[0;36m<module>\u001b[1;34m\u001b[0m\n\u001b[0;32m      4\u001b[0m     \u001b[1;32mreturn\u001b[0m \u001b[0ml\u001b[0m\u001b[1;33m(\u001b[0m\u001b[0mn\u001b[0m\u001b[1;33m)\u001b[0m\u001b[1;33m\u001b[0m\u001b[1;33m\u001b[0m\u001b[0m\n\u001b[0;32m      5\u001b[0m \u001b[0ml\u001b[0m \u001b[1;33m=\u001b[0m \u001b[1;33m[\u001b[0m\u001b[1;36m1\u001b[0m\u001b[1;33m,\u001b[0m\u001b[1;36m2\u001b[0m\u001b[1;33m,\u001b[0m\u001b[1;36m3\u001b[0m\u001b[1;33m,\u001b[0m\u001b[1;36m4\u001b[0m\u001b[1;33m,\u001b[0m\u001b[1;36m5\u001b[0m\u001b[1;33m,\u001b[0m\u001b[1;36m6\u001b[0m\u001b[1;33m,\u001b[0m\u001b[1;36m7\u001b[0m\u001b[1;33m,\u001b[0m\u001b[1;36m8\u001b[0m\u001b[1;33m,\u001b[0m\u001b[1;36m9\u001b[0m\u001b[1;33m,\u001b[0m\u001b[1;36m10\u001b[0m\u001b[1;33m]\u001b[0m\u001b[1;33m\u001b[0m\u001b[1;33m\u001b[0m\u001b[0m\n\u001b[1;32m----> 6\u001b[1;33m \u001b[0mselect_word\u001b[0m\u001b[1;33m(\u001b[0m\u001b[0ml\u001b[0m\u001b[1;33m)\u001b[0m\u001b[1;33m\u001b[0m\u001b[1;33m\u001b[0m\u001b[0m\n\u001b[0m",
      "\u001b[1;32m<ipython-input-2-aa7594e9dc31>\u001b[0m in \u001b[0;36mselect_word\u001b[1;34m(l)\u001b[0m\n\u001b[0;32m      2\u001b[0m \u001b[1;32mdef\u001b[0m \u001b[0mselect_word\u001b[0m\u001b[1;33m(\u001b[0m\u001b[0ml\u001b[0m\u001b[1;33m)\u001b[0m\u001b[1;33m:\u001b[0m\u001b[1;33m\u001b[0m\u001b[1;33m\u001b[0m\u001b[0m\n\u001b[0;32m      3\u001b[0m     \u001b[0mn\u001b[0m \u001b[1;33m=\u001b[0m \u001b[0mrandom\u001b[0m\u001b[1;33m.\u001b[0m\u001b[0mrandint\u001b[0m\u001b[1;33m(\u001b[0m\u001b[1;36m0\u001b[0m\u001b[1;33m,\u001b[0m \u001b[0mlen\u001b[0m\u001b[1;33m(\u001b[0m\u001b[0ml\u001b[0m\u001b[1;33m)\u001b[0m\u001b[1;33m-\u001b[0m\u001b[1;36m1\u001b[0m\u001b[1;33m)\u001b[0m\u001b[1;33m\u001b[0m\u001b[1;33m\u001b[0m\u001b[0m\n\u001b[1;32m----> 4\u001b[1;33m     \u001b[1;32mreturn\u001b[0m \u001b[0ml\u001b[0m\u001b[1;33m(\u001b[0m\u001b[0mn\u001b[0m\u001b[1;33m)\u001b[0m\u001b[1;33m\u001b[0m\u001b[1;33m\u001b[0m\u001b[0m\n\u001b[0m\u001b[0;32m      5\u001b[0m \u001b[0ml\u001b[0m \u001b[1;33m=\u001b[0m \u001b[1;33m[\u001b[0m\u001b[1;36m1\u001b[0m\u001b[1;33m,\u001b[0m\u001b[1;36m2\u001b[0m\u001b[1;33m,\u001b[0m\u001b[1;36m3\u001b[0m\u001b[1;33m,\u001b[0m\u001b[1;36m4\u001b[0m\u001b[1;33m,\u001b[0m\u001b[1;36m5\u001b[0m\u001b[1;33m,\u001b[0m\u001b[1;36m6\u001b[0m\u001b[1;33m,\u001b[0m\u001b[1;36m7\u001b[0m\u001b[1;33m,\u001b[0m\u001b[1;36m8\u001b[0m\u001b[1;33m,\u001b[0m\u001b[1;36m9\u001b[0m\u001b[1;33m,\u001b[0m\u001b[1;36m10\u001b[0m\u001b[1;33m]\u001b[0m\u001b[1;33m\u001b[0m\u001b[1;33m\u001b[0m\u001b[0m\n\u001b[0;32m      6\u001b[0m \u001b[0mselect_word\u001b[0m\u001b[1;33m(\u001b[0m\u001b[0ml\u001b[0m\u001b[1;33m)\u001b[0m\u001b[1;33m\u001b[0m\u001b[1;33m\u001b[0m\u001b[0m\n",
      "\u001b[1;31mTypeError\u001b[0m: 'list' object is not callable"
     ]
    }
   ],
   "source": [
    "import random\n",
    "\n",
    "def select_word(l):\n",
    "    n = random.randint(0,len(l)-1)\n",
    "    return l(n)\n",
    "l = [1,2,3,4,5,6,7,8,9,10]\n",
    "select_word(l)"
   ]
  },
  {
   "cell_type": "markdown",
   "metadata": {},
   "source": [
    "#### (102)  write a map function which calculate the list multiple of 5:\n",
    "- eg: x == [ 2, 3, 4, 5, 6]\n",
    "- y == [10, 15, 20, 25, 30]\n"
   ]
  },
  {
   "cell_type": "code",
   "execution_count": 5,
   "metadata": {
    "ExecuteTime": {
     "end_time": "2020-11-04T13:03:57.383067Z",
     "start_time": "2020-11-04T13:03:57.366084Z"
    }
   },
   "outputs": [
    {
     "data": {
      "text/plain": [
       "[10, 15, 20, 25, 30]"
      ]
     },
     "execution_count": 5,
     "metadata": {},
     "output_type": "execute_result"
    }
   ],
   "source": [
    "def q102 (l):\n",
    "    return[i*5 for i in l]\n",
    "q102 ([2, 3, 4, 5, 6])\n",
    "    "
   ]
  },
  {
   "cell_type": "markdown",
   "metadata": {},
   "source": [
    "####  (103)  write a map function which multiply the odd values by 5 and add them to the list "
   ]
  },
  {
   "cell_type": "code",
   "execution_count": 6,
   "metadata": {
    "ExecuteTime": {
     "end_time": "2020-11-04T13:06:47.063570Z",
     "start_time": "2020-11-04T13:06:47.042589Z"
    }
   },
   "outputs": [
    {
     "data": {
      "text/plain": [
       "[2, 5, 4, 25, 6]"
      ]
     },
     "execution_count": 6,
     "metadata": {},
     "output_type": "execute_result"
    }
   ],
   "source": [
    "def q103(l):\n",
    "    return[i*5 if i%2 ==1 else i for i in l]\n",
    "q103([2, 1, 4, 5, 6])"
   ]
  },
  {
   "cell_type": "markdown",
   "metadata": {},
   "source": [
    "#### (104) write a map function to get:\n",
    "- x=[2,3,4]\n",
    "- y=[4,5]\n",
    "- ans: z=[[6,7],[7,8],[8,9]]"
   ]
  },
  {
   "cell_type": "code",
   "execution_count": null,
   "metadata": {},
   "outputs": [],
   "source": [
    "# x=[2,3,4]\n",
    "# y=[4,5]\n",
    "# ans: z=[[6,7],[7,8],[8,9]]\n",
    "\n",
    "\n",
    "    \n"
   ]
  },
  {
   "cell_type": "markdown",
   "metadata": {},
   "source": [
    "#### (105) write a function to convert a z list to 1d list : use reduce"
   ]
  },
  {
   "cell_type": "code",
   "execution_count": 8,
   "metadata": {
    "ExecuteTime": {
     "end_time": "2020-11-04T13:14:48.058072Z",
     "start_time": "2020-11-04T13:14:48.046086Z"
    }
   },
   "outputs": [
    {
     "data": {
      "text/plain": [
       "[1, 2, 3, 4, 5, 6, 7, 8, 9]"
      ]
     },
     "execution_count": 8,
     "metadata": {},
     "output_type": "execute_result"
    }
   ],
   "source": [
    "import functools\n",
    "\n",
    "def q105(l):\n",
    "    return functools.reduce(lambda a,b: a+b, l)\n",
    "\n",
    "q105 ([[1,2,3], [4,5,6], [7,8,9]])"
   ]
  },
  {
   "cell_type": "code",
   "execution_count": null,
   "metadata": {},
   "outputs": [],
   "source": []
  }
 ],
 "metadata": {
  "kernelspec": {
   "display_name": "Python 3",
   "language": "python",
   "name": "python3"
  },
  "language_info": {
   "codemirror_mode": {
    "name": "ipython",
    "version": 3
   },
   "file_extension": ".py",
   "mimetype": "text/x-python",
   "name": "python",
   "nbconvert_exporter": "python",
   "pygments_lexer": "ipython3",
   "version": "3.8.3"
  },
  "toc": {
   "base_numbering": 1,
   "nav_menu": {},
   "number_sections": true,
   "sideBar": true,
   "skip_h1_title": false,
   "title_cell": "Table of Contents",
   "title_sidebar": "Contents",
   "toc_cell": false,
   "toc_position": {},
   "toc_section_display": true,
   "toc_window_display": false
  },
  "varInspector": {
   "cols": {
    "lenName": 16,
    "lenType": 16,
    "lenVar": 40
   },
   "kernels_config": {
    "python": {
     "delete_cmd_postfix": "",
     "delete_cmd_prefix": "del ",
     "library": "var_list.py",
     "varRefreshCmd": "print(var_dic_list())"
    },
    "r": {
     "delete_cmd_postfix": ") ",
     "delete_cmd_prefix": "rm(",
     "library": "var_list.r",
     "varRefreshCmd": "cat(var_dic_list()) "
    }
   },
   "types_to_exclude": [
    "module",
    "function",
    "builtin_function_or_method",
    "instance",
    "_Feature"
   ],
   "window_display": false
  }
 },
 "nbformat": 4,
 "nbformat_minor": 4
}
